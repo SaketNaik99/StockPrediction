{
 "cells": [
  {
   "cell_type": "code",
   "execution_count": 1,
   "metadata": {
    "colab": {
     "base_uri": "https://localhost:8080/",
     "height": 306
    },
    "id": "ccjiJlN9oeNN",
    "outputId": "60241494-863d-4a7f-e78c-1872f4a1b018"
   },
   "outputs": [],
   "source": [
    "#!pip install pmdarima\n",
    "#!pip install numpy --upgrade "
   ]
  },
  {
   "cell_type": "code",
   "execution_count": 2,
   "metadata": {},
   "outputs": [],
   "source": [
    "#!pip install TextBlob"
   ]
  },
  {
   "cell_type": "code",
   "execution_count": 3,
   "metadata": {
    "colab": {
     "base_uri": "https://localhost:8080/"
    },
    "id": "LOGxBAIUJPb6",
    "outputId": "d8107e8c-66c0-4725-d294-5bb93ccf26e3"
   },
   "outputs": [
    {
     "name": "stderr",
     "output_type": "stream",
     "text": [
      "[nltk_data] Downloading package vader_lexicon to\n",
      "[nltk_data]     C:\\Users\\saket\\AppData\\Roaming\\nltk_data...\n",
      "[nltk_data]   Package vader_lexicon is already up-to-date!\n"
     ]
    },
    {
     "name": "stdout",
     "output_type": "stream",
     "text": [
      "...................done\n"
     ]
    }
   ],
   "source": [
    "import numpy as np\n",
    "import pandas as pd\n",
    "import seaborn as sns\n",
    "import matplotlib.pyplot as plt\n",
    "\n",
    "import warnings\n",
    "warnings.filterwarnings('ignore')\n",
    "\n",
    "import regex as re\n",
    "#sentiment analyser imports\n",
    "from textblob import TextBlob\n",
    "import nltk\n",
    "nltk.download('vader_lexicon')\n",
    "from nltk.sentiment.vader import SentimentIntensityAnalyzer\n",
    "\n",
    "\n",
    "#auto_arima \n",
    "\n",
    "from pmdarima import auto_arima\n",
    "\n",
    "#accuracy check imports\n",
    "from sklearn.metrics import mean_absolute_error,mean_squared_error\n",
    "from sklearn.feature_selection import mutual_info_regression\n",
    "#saving model\n",
    "import pickle\n",
    "print('...................done')"
   ]
  },
  {
   "cell_type": "code",
   "execution_count": 4,
   "metadata": {
    "colab": {
     "base_uri": "https://localhost:8080/",
     "height": 337
    },
    "id": "tguQDWwTogtB",
    "outputId": "3b67711d-98fd-4bf4-b27b-18ddf0c12f8d"
   },
   "outputs": [
    {
     "data": {
      "text/html": [
       "<div>\n",
       "<style scoped>\n",
       "    .dataframe tbody tr th:only-of-type {\n",
       "        vertical-align: middle;\n",
       "    }\n",
       "\n",
       "    .dataframe tbody tr th {\n",
       "        vertical-align: top;\n",
       "    }\n",
       "\n",
       "    .dataframe thead th {\n",
       "        text-align: right;\n",
       "    }\n",
       "</style>\n",
       "<table border=\"1\" class=\"dataframe\">\n",
       "  <thead>\n",
       "    <tr style=\"text-align: right;\">\n",
       "      <th></th>\n",
       "      <th>publish_date</th>\n",
       "      <th>headline_category</th>\n",
       "      <th>headline_text</th>\n",
       "    </tr>\n",
       "  </thead>\n",
       "  <tbody>\n",
       "    <tr>\n",
       "      <th>0</th>\n",
       "      <td>20010102</td>\n",
       "      <td>unknown</td>\n",
       "      <td>Status quo will not be disturbed at Ayodhya; s...</td>\n",
       "    </tr>\n",
       "    <tr>\n",
       "      <th>1</th>\n",
       "      <td>20010102</td>\n",
       "      <td>unknown</td>\n",
       "      <td>Fissures in Hurriyat over Pak visit</td>\n",
       "    </tr>\n",
       "    <tr>\n",
       "      <th>2</th>\n",
       "      <td>20010102</td>\n",
       "      <td>unknown</td>\n",
       "      <td>America's unwanted heading for India?</td>\n",
       "    </tr>\n",
       "    <tr>\n",
       "      <th>3</th>\n",
       "      <td>20010102</td>\n",
       "      <td>unknown</td>\n",
       "      <td>For bigwigs; it is destination Goa</td>\n",
       "    </tr>\n",
       "    <tr>\n",
       "      <th>4</th>\n",
       "      <td>20010102</td>\n",
       "      <td>unknown</td>\n",
       "      <td>Extra buses to clear tourist traffic</td>\n",
       "    </tr>\n",
       "  </tbody>\n",
       "</table>\n",
       "</div>"
      ],
      "text/plain": [
       "   publish_date headline_category  \\\n",
       "0      20010102           unknown   \n",
       "1      20010102           unknown   \n",
       "2      20010102           unknown   \n",
       "3      20010102           unknown   \n",
       "4      20010102           unknown   \n",
       "\n",
       "                                       headline_text  \n",
       "0  Status quo will not be disturbed at Ayodhya; s...  \n",
       "1                Fissures in Hurriyat over Pak visit  \n",
       "2              America's unwanted heading for India?  \n",
       "3                 For bigwigs; it is destination Goa  \n",
       "4               Extra buses to clear tourist traffic  "
      ]
     },
     "execution_count": 4,
     "metadata": {},
     "output_type": "execute_result"
    }
   ],
   "source": [
    "#news_data=pd.read_excel('/content/drive/MyDrive/Colab Notebooks/news.csv',index_col='publish_date')\n",
    "news_data=pd.read_csv('C:/Users/saket/Desktop/PROJECTS/datasets/news.csv')                    \n",
    "news_data.head()"
   ]
  },
  {
   "cell_type": "code",
   "execution_count": 5,
   "metadata": {
    "colab": {
     "base_uri": "https://localhost:8080/",
     "height": 225
    },
    "id": "4EZPjY3e8Zir",
    "outputId": "8215faae-cec9-4a03-c773-f2e153ed75bf"
   },
   "outputs": [
    {
     "data": {
      "text/html": [
       "<div>\n",
       "<style scoped>\n",
       "    .dataframe tbody tr th:only-of-type {\n",
       "        vertical-align: middle;\n",
       "    }\n",
       "\n",
       "    .dataframe tbody tr th {\n",
       "        vertical-align: top;\n",
       "    }\n",
       "\n",
       "    .dataframe thead th {\n",
       "        text-align: right;\n",
       "    }\n",
       "</style>\n",
       "<table border=\"1\" class=\"dataframe\">\n",
       "  <thead>\n",
       "    <tr style=\"text-align: right;\">\n",
       "      <th></th>\n",
       "      <th>publish_date</th>\n",
       "      <th>headline_category</th>\n",
       "      <th>headline_text</th>\n",
       "    </tr>\n",
       "  </thead>\n",
       "  <tbody>\n",
       "    <tr>\n",
       "      <th>3424062</th>\n",
       "      <td>20201231</td>\n",
       "      <td>city.jodhpur</td>\n",
       "      <td>Covid-19: Despite dip in cases; Rajasthan amon...</td>\n",
       "    </tr>\n",
       "    <tr>\n",
       "      <th>3424063</th>\n",
       "      <td>20201231</td>\n",
       "      <td>city.udaipur</td>\n",
       "      <td>Covid-19: Despite dip in cases; Rajasthan amon...</td>\n",
       "    </tr>\n",
       "    <tr>\n",
       "      <th>3424064</th>\n",
       "      <td>20201231</td>\n",
       "      <td>city.ajmer</td>\n",
       "      <td>Covid-19: Despite dip in cases; Rajasthan amon...</td>\n",
       "    </tr>\n",
       "    <tr>\n",
       "      <th>3424065</th>\n",
       "      <td>20201231</td>\n",
       "      <td>removed</td>\n",
       "      <td>Govt extends deadline for use of FASTag till F...</td>\n",
       "    </tr>\n",
       "    <tr>\n",
       "      <th>3424066</th>\n",
       "      <td>20201231</td>\n",
       "      <td>entertainment.bengali.movies.news</td>\n",
       "      <td>Celebs plan to party safely and responsibly on...</td>\n",
       "    </tr>\n",
       "  </tbody>\n",
       "</table>\n",
       "</div>"
      ],
      "text/plain": [
       "         publish_date                  headline_category  \\\n",
       "3424062      20201231                       city.jodhpur   \n",
       "3424063      20201231                       city.udaipur   \n",
       "3424064      20201231                         city.ajmer   \n",
       "3424065      20201231                            removed   \n",
       "3424066      20201231  entertainment.bengali.movies.news   \n",
       "\n",
       "                                             headline_text  \n",
       "3424062  Covid-19: Despite dip in cases; Rajasthan amon...  \n",
       "3424063  Covid-19: Despite dip in cases; Rajasthan amon...  \n",
       "3424064  Covid-19: Despite dip in cases; Rajasthan amon...  \n",
       "3424065  Govt extends deadline for use of FASTag till F...  \n",
       "3424066  Celebs plan to party safely and responsibly on...  "
      ]
     },
     "execution_count": 5,
     "metadata": {},
     "output_type": "execute_result"
    }
   ],
   "source": [
    "news_data.tail()"
   ]
  },
  {
   "cell_type": "markdown",
   "metadata": {},
   "source": [
    "### PREPROCESSING"
   ]
  },
  {
   "cell_type": "code",
   "execution_count": 6,
   "metadata": {
    "colab": {
     "base_uri": "https://localhost:8080/"
    },
    "id": "yCjcYZbForha",
    "outputId": "419fc065-ca7b-41a1-b2b5-d8290ce44a9a"
   },
   "outputs": [
    {
     "data": {
      "text/plain": [
       "(3424067, 3)"
      ]
     },
     "execution_count": 6,
     "metadata": {},
     "output_type": "execute_result"
    }
   ],
   "source": [
    "news_data.shape"
   ]
  },
  {
   "cell_type": "code",
   "execution_count": 7,
   "metadata": {
    "colab": {
     "base_uri": "https://localhost:8080/"
    },
    "id": "N2RIYTFeosHz",
    "outputId": "2635ee62-8445-4ca7-c3cb-e97c4d16e42e"
   },
   "outputs": [
    {
     "data": {
      "text/plain": [
       "publish_date         0\n",
       "headline_category    0\n",
       "headline_text        0\n",
       "dtype: int64"
      ]
     },
     "execution_count": 7,
     "metadata": {},
     "output_type": "execute_result"
    }
   ],
   "source": [
    "news_data.isnull().sum()"
   ]
  },
  {
   "cell_type": "code",
   "execution_count": 8,
   "metadata": {
    "colab": {
     "base_uri": "https://localhost:8080/"
    },
    "id": "5-MPaqiiouVL",
    "outputId": "be134ea8-f4b0-4305-f72e-ea81afc7ac2b"
   },
   "outputs": [
    {
     "name": "stdout",
     "output_type": "stream",
     "text": [
      "<class 'pandas.core.frame.DataFrame'>\n",
      "RangeIndex: 3424067 entries, 0 to 3424066\n",
      "Data columns (total 3 columns):\n",
      " #   Column             Dtype \n",
      "---  ------             ----- \n",
      " 0   publish_date       int64 \n",
      " 1   headline_category  object\n",
      " 2   headline_text      object\n",
      "dtypes: int64(1), object(2)\n",
      "memory usage: 78.4+ MB\n"
     ]
    }
   ],
   "source": [
    "news_data.info()"
   ]
  },
  {
   "cell_type": "code",
   "execution_count": 9,
   "metadata": {
    "colab": {
     "base_uri": "https://localhost:8080/"
    },
    "id": "-wjIGlHZowC8",
    "outputId": "4afbe50f-3b18-4151-d81b-cc2ff340f483"
   },
   "outputs": [
    {
     "data": {
      "text/plain": [
       "india                                                288541\n",
       "unknown                                              209582\n",
       "city.mumbai                                          134428\n",
       "city.delhi                                           127717\n",
       "business.india-business                              116761\n",
       "                                                      ...  \n",
       "business.mf-simplified.faq                                8\n",
       "sports.football.indian-super-league.team-profiles         8\n",
       "2013-the-year-sachin-bids-adieu.football-2013             8\n",
       "year-ender-2015.march                                     8\n",
       "elections.lok-sabha-elections-2019.tripura.news           8\n",
       "Name: headline_category, Length: 1013, dtype: int64"
      ]
     },
     "execution_count": 9,
     "metadata": {},
     "output_type": "execute_result"
    }
   ],
   "source": [
    "news_data['headline_category'].value_counts()"
   ]
  },
  {
   "cell_type": "code",
   "execution_count": 10,
   "metadata": {
    "colab": {
     "base_uri": "https://localhost:8080/"
    },
    "id": "H-zuNgVcoyf7",
    "outputId": "b490dca9-dcf0-45fd-c660-82e56299ee77"
   },
   "outputs": [
    {
     "data": {
      "text/plain": [
       "publish_date          int64\n",
       "headline_category    object\n",
       "headline_text        object\n",
       "dtype: object"
      ]
     },
     "execution_count": 10,
     "metadata": {},
     "output_type": "execute_result"
    }
   ],
   "source": [
    "news_data['headline_text']=news_data['headline_text'].astype('str')\n",
    "news_data['headline_text']=news_data['headline_text'].str.lower()\n",
    "news_data.dtypes"
   ]
  },
  {
   "cell_type": "code",
   "execution_count": 11,
   "metadata": {
    "id": "y8Z_4xHYNuSR"
   },
   "outputs": [],
   "source": [
    "#remove unwanted columns\n",
    "def col_remover(df,col):\n",
    "  df.drop(col,axis=1,inplace=True)\n",
    "col_remover(news_data,'headline_category')\n",
    "#col_remover(news_data,'scores')"
   ]
  },
  {
   "cell_type": "code",
   "execution_count": 12,
   "metadata": {
    "colab": {
     "base_uri": "https://localhost:8080/",
     "height": 402
    },
    "id": "7bTRdMcggd_z",
    "outputId": "a8725253-f7a9-4c61-be14-f3b4abf23352"
   },
   "outputs": [
    {
     "data": {
      "text/html": [
       "<div>\n",
       "<style scoped>\n",
       "    .dataframe tbody tr th:only-of-type {\n",
       "        vertical-align: middle;\n",
       "    }\n",
       "\n",
       "    .dataframe tbody tr th {\n",
       "        vertical-align: top;\n",
       "    }\n",
       "\n",
       "    .dataframe thead th {\n",
       "        text-align: right;\n",
       "    }\n",
       "</style>\n",
       "<table border=\"1\" class=\"dataframe\">\n",
       "  <thead>\n",
       "    <tr style=\"text-align: right;\">\n",
       "      <th></th>\n",
       "      <th>publish_date</th>\n",
       "      <th>headline_text</th>\n",
       "    </tr>\n",
       "  </thead>\n",
       "  <tbody>\n",
       "    <tr>\n",
       "      <th>0</th>\n",
       "      <td>20010102</td>\n",
       "      <td>status quo will not be disturbed at ayodhya; s...</td>\n",
       "    </tr>\n",
       "    <tr>\n",
       "      <th>1</th>\n",
       "      <td>20010102</td>\n",
       "      <td>fissures in hurriyat over pak visit</td>\n",
       "    </tr>\n",
       "    <tr>\n",
       "      <th>2</th>\n",
       "      <td>20010102</td>\n",
       "      <td>america's unwanted heading for india?</td>\n",
       "    </tr>\n",
       "    <tr>\n",
       "      <th>3</th>\n",
       "      <td>20010102</td>\n",
       "      <td>for bigwigs; it is destination goa</td>\n",
       "    </tr>\n",
       "    <tr>\n",
       "      <th>4</th>\n",
       "      <td>20010102</td>\n",
       "      <td>extra buses to clear tourist traffic</td>\n",
       "    </tr>\n",
       "    <tr>\n",
       "      <th>...</th>\n",
       "      <td>...</td>\n",
       "      <td>...</td>\n",
       "    </tr>\n",
       "    <tr>\n",
       "      <th>95</th>\n",
       "      <td>20010103</td>\n",
       "      <td>no report yet on fire in udyog bhavan</td>\n",
       "    </tr>\n",
       "    <tr>\n",
       "      <th>96</th>\n",
       "      <td>20010103</td>\n",
       "      <td>he is the king of 'five star' industry</td>\n",
       "    </tr>\n",
       "    <tr>\n",
       "      <th>97</th>\n",
       "      <td>20010103</td>\n",
       "      <td>petrol pump sealed for selling adulterated fuel</td>\n",
       "    </tr>\n",
       "    <tr>\n",
       "      <th>98</th>\n",
       "      <td>20010103</td>\n",
       "      <td>milk price up by rs 1 per litre</td>\n",
       "    </tr>\n",
       "    <tr>\n",
       "      <th>99</th>\n",
       "      <td>20010103</td>\n",
       "      <td>congress house is no-smoking zone</td>\n",
       "    </tr>\n",
       "  </tbody>\n",
       "</table>\n",
       "<p>100 rows × 2 columns</p>\n",
       "</div>"
      ],
      "text/plain": [
       "    publish_date                                      headline_text\n",
       "0       20010102  status quo will not be disturbed at ayodhya; s...\n",
       "1       20010102                fissures in hurriyat over pak visit\n",
       "2       20010102              america's unwanted heading for india?\n",
       "3       20010102                 for bigwigs; it is destination goa\n",
       "4       20010102               extra buses to clear tourist traffic\n",
       "..           ...                                                ...\n",
       "95      20010103              no report yet on fire in udyog bhavan\n",
       "96      20010103             he is the king of 'five star' industry\n",
       "97      20010103    petrol pump sealed for selling adulterated fuel\n",
       "98      20010103                    milk price up by rs 1 per litre\n",
       "99      20010103                  congress house is no-smoking zone\n",
       "\n",
       "[100 rows x 2 columns]"
      ]
     },
     "execution_count": 12,
     "metadata": {},
     "output_type": "execute_result"
    }
   ],
   "source": [
    "news_data.head(100)"
   ]
  },
  {
   "cell_type": "code",
   "execution_count": 13,
   "metadata": {
    "id": "_SHYNxcsNuY3"
   },
   "outputs": [],
   "source": [
    "#preprocess date column\n",
    "news_data['publish_date']=news_data['publish_date'].astype('str')\n",
    "news_data['publish_date']=news_data['publish_date'].apply(lambda x: x[0:4]+'-'+x[4:6]+'-'+x[6:8])"
   ]
  },
  {
   "cell_type": "code",
   "execution_count": 14,
   "metadata": {
    "colab": {
     "base_uri": "https://localhost:8080/",
     "height": 343
    },
    "id": "Qwk0fOG4g34Q",
    "outputId": "5ee1f0da-9834-4b56-8c29-4b940084cc4f"
   },
   "outputs": [
    {
     "data": {
      "text/html": [
       "<div>\n",
       "<style scoped>\n",
       "    .dataframe tbody tr th:only-of-type {\n",
       "        vertical-align: middle;\n",
       "    }\n",
       "\n",
       "    .dataframe tbody tr th {\n",
       "        vertical-align: top;\n",
       "    }\n",
       "\n",
       "    .dataframe thead th {\n",
       "        text-align: right;\n",
       "    }\n",
       "</style>\n",
       "<table border=\"1\" class=\"dataframe\">\n",
       "  <thead>\n",
       "    <tr style=\"text-align: right;\">\n",
       "      <th></th>\n",
       "      <th>publish_date</th>\n",
       "      <th>headline_text</th>\n",
       "    </tr>\n",
       "  </thead>\n",
       "  <tbody>\n",
       "    <tr>\n",
       "      <th>0</th>\n",
       "      <td>2001-01-02</td>\n",
       "      <td>status quo will not be disturbed at ayodhya; s...</td>\n",
       "    </tr>\n",
       "    <tr>\n",
       "      <th>1</th>\n",
       "      <td>2001-01-02</td>\n",
       "      <td>fissures in hurriyat over pak visit</td>\n",
       "    </tr>\n",
       "    <tr>\n",
       "      <th>2</th>\n",
       "      <td>2001-01-02</td>\n",
       "      <td>america's unwanted heading for india?</td>\n",
       "    </tr>\n",
       "    <tr>\n",
       "      <th>3</th>\n",
       "      <td>2001-01-02</td>\n",
       "      <td>for bigwigs; it is destination goa</td>\n",
       "    </tr>\n",
       "    <tr>\n",
       "      <th>4</th>\n",
       "      <td>2001-01-02</td>\n",
       "      <td>extra buses to clear tourist traffic</td>\n",
       "    </tr>\n",
       "    <tr>\n",
       "      <th>5</th>\n",
       "      <td>2001-01-02</td>\n",
       "      <td>dilute the power of transfers; says riberio</td>\n",
       "    </tr>\n",
       "    <tr>\n",
       "      <th>6</th>\n",
       "      <td>2001-01-02</td>\n",
       "      <td>focus shifts to teaching of hindi</td>\n",
       "    </tr>\n",
       "    <tr>\n",
       "      <th>7</th>\n",
       "      <td>2001-01-02</td>\n",
       "      <td>it will become compulsory in schools</td>\n",
       "    </tr>\n",
       "    <tr>\n",
       "      <th>8</th>\n",
       "      <td>2001-01-02</td>\n",
       "      <td>move to stop freedom fighters' pension flayed</td>\n",
       "    </tr>\n",
       "    <tr>\n",
       "      <th>9</th>\n",
       "      <td>2001-01-02</td>\n",
       "      <td>gilani claims he applied for passport 2 years ago</td>\n",
       "    </tr>\n",
       "  </tbody>\n",
       "</table>\n",
       "</div>"
      ],
      "text/plain": [
       "  publish_date                                      headline_text\n",
       "0   2001-01-02  status quo will not be disturbed at ayodhya; s...\n",
       "1   2001-01-02                fissures in hurriyat over pak visit\n",
       "2   2001-01-02              america's unwanted heading for india?\n",
       "3   2001-01-02                 for bigwigs; it is destination goa\n",
       "4   2001-01-02               extra buses to clear tourist traffic\n",
       "5   2001-01-02        dilute the power of transfers; says riberio\n",
       "6   2001-01-02                  focus shifts to teaching of hindi\n",
       "7   2001-01-02               it will become compulsory in schools\n",
       "8   2001-01-02      move to stop freedom fighters' pension flayed\n",
       "9   2001-01-02  gilani claims he applied for passport 2 years ago"
      ]
     },
     "execution_count": 14,
     "metadata": {},
     "output_type": "execute_result"
    }
   ],
   "source": [
    "news_data.head(10)"
   ]
  },
  {
   "cell_type": "code",
   "execution_count": 15,
   "metadata": {
    "colab": {
     "base_uri": "https://localhost:8080/",
     "height": 343
    },
    "id": "HkB2f9BfNub8",
    "outputId": "68c18750-de2a-4f50-b55c-fd8d8a8eeee5"
   },
   "outputs": [
    {
     "data": {
      "text/html": [
       "<div>\n",
       "<style scoped>\n",
       "    .dataframe tbody tr th:only-of-type {\n",
       "        vertical-align: middle;\n",
       "    }\n",
       "\n",
       "    .dataframe tbody tr th {\n",
       "        vertical-align: top;\n",
       "    }\n",
       "\n",
       "    .dataframe thead th {\n",
       "        text-align: right;\n",
       "    }\n",
       "</style>\n",
       "<table border=\"1\" class=\"dataframe\">\n",
       "  <thead>\n",
       "    <tr style=\"text-align: right;\">\n",
       "      <th></th>\n",
       "      <th>publish_date</th>\n",
       "      <th>headline_text</th>\n",
       "    </tr>\n",
       "  </thead>\n",
       "  <tbody>\n",
       "    <tr>\n",
       "      <th>0</th>\n",
       "      <td>2001-01-02</td>\n",
       "      <td>status quo will not be disturbed at ayodhya; s...</td>\n",
       "    </tr>\n",
       "    <tr>\n",
       "      <th>1</th>\n",
       "      <td>2001-01-03</td>\n",
       "      <td>powerless north india gropes in the dark,think...</td>\n",
       "    </tr>\n",
       "    <tr>\n",
       "      <th>2</th>\n",
       "      <td>2001-01-04</td>\n",
       "      <td>the string that pulled stephen hawking to indi...</td>\n",
       "    </tr>\n",
       "    <tr>\n",
       "      <th>3</th>\n",
       "      <td>2001-01-05</td>\n",
       "      <td>light combat craft takes india into club class...</td>\n",
       "    </tr>\n",
       "    <tr>\n",
       "      <th>4</th>\n",
       "      <td>2001-01-06</td>\n",
       "      <td>light combat craft takes india into club class...</td>\n",
       "    </tr>\n",
       "    <tr>\n",
       "      <th>5</th>\n",
       "      <td>2001-01-07</td>\n",
       "      <td>muslim body rules out talks on ayodhya,bajrang...</td>\n",
       "    </tr>\n",
       "    <tr>\n",
       "      <th>6</th>\n",
       "      <td>2001-01-08</td>\n",
       "      <td>sangh parivar; babri panel up the ante,frontru...</td>\n",
       "    </tr>\n",
       "    <tr>\n",
       "      <th>7</th>\n",
       "      <td>2001-01-09</td>\n",
       "      <td>financier bharat shah held for alleged links w...</td>\n",
       "    </tr>\n",
       "    <tr>\n",
       "      <th>8</th>\n",
       "      <td>2001-01-10</td>\n",
       "      <td>fend for yourselves; pande tells doctors,burea...</td>\n",
       "    </tr>\n",
       "    <tr>\n",
       "      <th>9</th>\n",
       "      <td>2001-01-23</td>\n",
       "      <td>sonia takes on the hindutva brigade,congress h...</td>\n",
       "    </tr>\n",
       "  </tbody>\n",
       "</table>\n",
       "</div>"
      ],
      "text/plain": [
       "  publish_date                                      headline_text\n",
       "0   2001-01-02  status quo will not be disturbed at ayodhya; s...\n",
       "1   2001-01-03  powerless north india gropes in the dark,think...\n",
       "2   2001-01-04  the string that pulled stephen hawking to indi...\n",
       "3   2001-01-05  light combat craft takes india into club class...\n",
       "4   2001-01-06  light combat craft takes india into club class...\n",
       "5   2001-01-07  muslim body rules out talks on ayodhya,bajrang...\n",
       "6   2001-01-08  sangh parivar; babri panel up the ante,frontru...\n",
       "7   2001-01-09  financier bharat shah held for alleged links w...\n",
       "8   2001-01-10  fend for yourselves; pande tells doctors,burea...\n",
       "9   2001-01-23  sonia takes on the hindutva brigade,congress h..."
      ]
     },
     "execution_count": 15,
     "metadata": {},
     "output_type": "execute_result"
    }
   ],
   "source": [
    "#groupby date \n",
    "news_data_mod=news_data.groupby(['publish_date'])['headline_text'].apply(lambda x:','.join(x)).reset_index()\n",
    "news_data_mod.head(10)"
   ]
  },
  {
   "cell_type": "markdown",
   "metadata": {},
   "source": [
    "### SENTIMENT ANALYSIS"
   ]
  },
  {
   "cell_type": "code",
   "execution_count": 16,
   "metadata": {
    "id": "tQYGHw4_Nuev"
   },
   "outputs": [],
   "source": [
    "#apply vader analyzer on entire news dataset\n",
    "sid=SentimentIntensityAnalyzer()\n",
    "#news_data['compound'] = news_data['headline_text'].apply(lambda x: sid.polarity_scores(x)['compound'])\n",
    "news_data_mod['scores']=news_data_mod['headline_text'].apply(lambda x:sid.polarity_scores(x))"
   ]
  },
  {
   "cell_type": "code",
   "execution_count": 17,
   "metadata": {
    "colab": {
     "base_uri": "https://localhost:8080/",
     "height": 195
    },
    "id": "8eUL52nPNugr",
    "outputId": "7838231b-621f-47ac-a645-db1c30fb6aee"
   },
   "outputs": [
    {
     "data": {
      "text/html": [
       "<div>\n",
       "<style scoped>\n",
       "    .dataframe tbody tr th:only-of-type {\n",
       "        vertical-align: middle;\n",
       "    }\n",
       "\n",
       "    .dataframe tbody tr th {\n",
       "        vertical-align: top;\n",
       "    }\n",
       "\n",
       "    .dataframe thead th {\n",
       "        text-align: right;\n",
       "    }\n",
       "</style>\n",
       "<table border=\"1\" class=\"dataframe\">\n",
       "  <thead>\n",
       "    <tr style=\"text-align: right;\">\n",
       "      <th></th>\n",
       "      <th>publish_date</th>\n",
       "      <th>headline_text</th>\n",
       "      <th>scores</th>\n",
       "      <th>compound</th>\n",
       "      <th>negative</th>\n",
       "      <th>positive</th>\n",
       "      <th>neutral</th>\n",
       "    </tr>\n",
       "  </thead>\n",
       "  <tbody>\n",
       "    <tr>\n",
       "      <th>0</th>\n",
       "      <td>2001-01-02</td>\n",
       "      <td>status quo will not be disturbed at ayodhya; s...</td>\n",
       "      <td>{'neg': 0.108, 'neu': 0.82, 'pos': 0.072, 'com...</td>\n",
       "      <td>-0.9426</td>\n",
       "      <td>0.108</td>\n",
       "      <td>0.072</td>\n",
       "      <td>0.820</td>\n",
       "    </tr>\n",
       "    <tr>\n",
       "      <th>1</th>\n",
       "      <td>2001-01-03</td>\n",
       "      <td>powerless north india gropes in the dark,think...</td>\n",
       "      <td>{'neg': 0.084, 'neu': 0.817, 'pos': 0.098, 'co...</td>\n",
       "      <td>0.6322</td>\n",
       "      <td>0.084</td>\n",
       "      <td>0.098</td>\n",
       "      <td>0.817</td>\n",
       "    </tr>\n",
       "    <tr>\n",
       "      <th>2</th>\n",
       "      <td>2001-01-04</td>\n",
       "      <td>the string that pulled stephen hawking to indi...</td>\n",
       "      <td>{'neg': 0.083, 'neu': 0.844, 'pos': 0.073, 'co...</td>\n",
       "      <td>-0.5468</td>\n",
       "      <td>0.083</td>\n",
       "      <td>0.073</td>\n",
       "      <td>0.844</td>\n",
       "    </tr>\n",
       "    <tr>\n",
       "      <th>3</th>\n",
       "      <td>2001-01-05</td>\n",
       "      <td>light combat craft takes india into club class...</td>\n",
       "      <td>{'neg': 0.101, 'neu': 0.746, 'pos': 0.153, 'co...</td>\n",
       "      <td>0.9878</td>\n",
       "      <td>0.101</td>\n",
       "      <td>0.153</td>\n",
       "      <td>0.746</td>\n",
       "    </tr>\n",
       "    <tr>\n",
       "      <th>4</th>\n",
       "      <td>2001-01-06</td>\n",
       "      <td>light combat craft takes india into club class...</td>\n",
       "      <td>{'neg': 0.118, 'neu': 0.709, 'pos': 0.172, 'co...</td>\n",
       "      <td>0.4404</td>\n",
       "      <td>0.118</td>\n",
       "      <td>0.172</td>\n",
       "      <td>0.709</td>\n",
       "    </tr>\n",
       "  </tbody>\n",
       "</table>\n",
       "</div>"
      ],
      "text/plain": [
       "  publish_date                                      headline_text  \\\n",
       "0   2001-01-02  status quo will not be disturbed at ayodhya; s...   \n",
       "1   2001-01-03  powerless north india gropes in the dark,think...   \n",
       "2   2001-01-04  the string that pulled stephen hawking to indi...   \n",
       "3   2001-01-05  light combat craft takes india into club class...   \n",
       "4   2001-01-06  light combat craft takes india into club class...   \n",
       "\n",
       "                                              scores  compound  negative  \\\n",
       "0  {'neg': 0.108, 'neu': 0.82, 'pos': 0.072, 'com...   -0.9426     0.108   \n",
       "1  {'neg': 0.084, 'neu': 0.817, 'pos': 0.098, 'co...    0.6322     0.084   \n",
       "2  {'neg': 0.083, 'neu': 0.844, 'pos': 0.073, 'co...   -0.5468     0.083   \n",
       "3  {'neg': 0.101, 'neu': 0.746, 'pos': 0.153, 'co...    0.9878     0.101   \n",
       "4  {'neg': 0.118, 'neu': 0.709, 'pos': 0.172, 'co...    0.4404     0.118   \n",
       "\n",
       "   positive  neutral  \n",
       "0     0.072    0.820  \n",
       "1     0.098    0.817  \n",
       "2     0.073    0.844  \n",
       "3     0.153    0.746  \n",
       "4     0.172    0.709  "
      ]
     },
     "execution_count": 17,
     "metadata": {},
     "output_type": "execute_result"
    }
   ],
   "source": [
    "#create separate columns for scores\n",
    "news_data_mod['compound']=news_data_mod['scores'].apply(lambda x:x['compound'])\n",
    "news_data_mod['negative']=news_data_mod['scores'].apply(lambda x:x['neg'])\n",
    "news_data_mod['positive']=news_data_mod['scores'].apply(lambda x:x['pos'])\n",
    "news_data_mod['neutral']=news_data_mod['scores'].apply(lambda x:x['neu'])\n",
    "news_data_mod.head()"
   ]
  },
  {
   "cell_type": "code",
   "execution_count": 18,
   "metadata": {
    "colab": {
     "base_uri": "https://localhost:8080/",
     "height": 195
    },
    "id": "s1XBgvbetvvY",
    "outputId": "0c7a491a-a2ec-4c56-b62f-ff77782374cd"
   },
   "outputs": [
    {
     "data": {
      "text/html": [
       "<div>\n",
       "<style scoped>\n",
       "    .dataframe tbody tr th:only-of-type {\n",
       "        vertical-align: middle;\n",
       "    }\n",
       "\n",
       "    .dataframe tbody tr th {\n",
       "        vertical-align: top;\n",
       "    }\n",
       "\n",
       "    .dataframe thead th {\n",
       "        text-align: right;\n",
       "    }\n",
       "</style>\n",
       "<table border=\"1\" class=\"dataframe\">\n",
       "  <thead>\n",
       "    <tr style=\"text-align: right;\">\n",
       "      <th></th>\n",
       "      <th>publish_date</th>\n",
       "      <th>compound</th>\n",
       "      <th>negative</th>\n",
       "      <th>positive</th>\n",
       "      <th>neutral</th>\n",
       "    </tr>\n",
       "  </thead>\n",
       "  <tbody>\n",
       "    <tr>\n",
       "      <th>0</th>\n",
       "      <td>2001-01-02</td>\n",
       "      <td>-0.9426</td>\n",
       "      <td>0.108</td>\n",
       "      <td>0.072</td>\n",
       "      <td>0.820</td>\n",
       "    </tr>\n",
       "    <tr>\n",
       "      <th>1</th>\n",
       "      <td>2001-01-03</td>\n",
       "      <td>0.6322</td>\n",
       "      <td>0.084</td>\n",
       "      <td>0.098</td>\n",
       "      <td>0.817</td>\n",
       "    </tr>\n",
       "    <tr>\n",
       "      <th>2</th>\n",
       "      <td>2001-01-04</td>\n",
       "      <td>-0.5468</td>\n",
       "      <td>0.083</td>\n",
       "      <td>0.073</td>\n",
       "      <td>0.844</td>\n",
       "    </tr>\n",
       "    <tr>\n",
       "      <th>3</th>\n",
       "      <td>2001-01-05</td>\n",
       "      <td>0.9878</td>\n",
       "      <td>0.101</td>\n",
       "      <td>0.153</td>\n",
       "      <td>0.746</td>\n",
       "    </tr>\n",
       "    <tr>\n",
       "      <th>4</th>\n",
       "      <td>2001-01-06</td>\n",
       "      <td>0.4404</td>\n",
       "      <td>0.118</td>\n",
       "      <td>0.172</td>\n",
       "      <td>0.709</td>\n",
       "    </tr>\n",
       "  </tbody>\n",
       "</table>\n",
       "</div>"
      ],
      "text/plain": [
       "  publish_date  compound  negative  positive  neutral\n",
       "0   2001-01-02   -0.9426     0.108     0.072    0.820\n",
       "1   2001-01-03    0.6322     0.084     0.098    0.817\n",
       "2   2001-01-04   -0.5468     0.083     0.073    0.844\n",
       "3   2001-01-05    0.9878     0.101     0.153    0.746\n",
       "4   2001-01-06    0.4404     0.118     0.172    0.709"
      ]
     },
     "execution_count": 18,
     "metadata": {},
     "output_type": "execute_result"
    }
   ],
   "source": [
    "#remove unwanted columns\n",
    "col_remover(news_data_mod,'headline_text')\n",
    "col_remover(news_data_mod,'scores')\n",
    "news_data_mod.head()"
   ]
  },
  {
   "cell_type": "code",
   "execution_count": 19,
   "metadata": {
    "id": "St-mAU92t9dn"
   },
   "outputs": [],
   "source": [
    "#set date column as the index\n",
    "news_data_mod.set_index('publish_date',drop=True,inplace=True)"
   ]
  },
  {
   "cell_type": "code",
   "execution_count": 20,
   "metadata": {
    "colab": {
     "base_uri": "https://localhost:8080/",
     "height": 225
    },
    "id": "kcECNWcH0dnI",
    "outputId": "bc854a51-353f-4360-ce4b-22223431acfe"
   },
   "outputs": [
    {
     "data": {
      "text/html": [
       "<div>\n",
       "<style scoped>\n",
       "    .dataframe tbody tr th:only-of-type {\n",
       "        vertical-align: middle;\n",
       "    }\n",
       "\n",
       "    .dataframe tbody tr th {\n",
       "        vertical-align: top;\n",
       "    }\n",
       "\n",
       "    .dataframe thead th {\n",
       "        text-align: right;\n",
       "    }\n",
       "</style>\n",
       "<table border=\"1\" class=\"dataframe\">\n",
       "  <thead>\n",
       "    <tr style=\"text-align: right;\">\n",
       "      <th></th>\n",
       "      <th>compound</th>\n",
       "      <th>negative</th>\n",
       "      <th>positive</th>\n",
       "      <th>neutral</th>\n",
       "    </tr>\n",
       "    <tr>\n",
       "      <th>publish_date</th>\n",
       "      <th></th>\n",
       "      <th></th>\n",
       "      <th></th>\n",
       "      <th></th>\n",
       "    </tr>\n",
       "  </thead>\n",
       "  <tbody>\n",
       "    <tr>\n",
       "      <th>2001-01-02</th>\n",
       "      <td>-0.9426</td>\n",
       "      <td>0.108</td>\n",
       "      <td>0.072</td>\n",
       "      <td>0.820</td>\n",
       "    </tr>\n",
       "    <tr>\n",
       "      <th>2001-01-03</th>\n",
       "      <td>0.6322</td>\n",
       "      <td>0.084</td>\n",
       "      <td>0.098</td>\n",
       "      <td>0.817</td>\n",
       "    </tr>\n",
       "    <tr>\n",
       "      <th>2001-01-04</th>\n",
       "      <td>-0.5468</td>\n",
       "      <td>0.083</td>\n",
       "      <td>0.073</td>\n",
       "      <td>0.844</td>\n",
       "    </tr>\n",
       "    <tr>\n",
       "      <th>2001-01-05</th>\n",
       "      <td>0.9878</td>\n",
       "      <td>0.101</td>\n",
       "      <td>0.153</td>\n",
       "      <td>0.746</td>\n",
       "    </tr>\n",
       "    <tr>\n",
       "      <th>2001-01-06</th>\n",
       "      <td>0.4404</td>\n",
       "      <td>0.118</td>\n",
       "      <td>0.172</td>\n",
       "      <td>0.709</td>\n",
       "    </tr>\n",
       "  </tbody>\n",
       "</table>\n",
       "</div>"
      ],
      "text/plain": [
       "              compound  negative  positive  neutral\n",
       "publish_date                                       \n",
       "2001-01-02     -0.9426     0.108     0.072    0.820\n",
       "2001-01-03      0.6322     0.084     0.098    0.817\n",
       "2001-01-04     -0.5468     0.083     0.073    0.844\n",
       "2001-01-05      0.9878     0.101     0.153    0.746\n",
       "2001-01-06      0.4404     0.118     0.172    0.709"
      ]
     },
     "execution_count": 20,
     "metadata": {},
     "output_type": "execute_result"
    }
   ],
   "source": [
    "news_data_mod.head()"
   ]
  },
  {
   "cell_type": "code",
   "execution_count": 21,
   "metadata": {
    "colab": {
     "base_uri": "https://localhost:8080/",
     "height": 225
    },
    "id": "QjAPCXYvSCk7",
    "outputId": "6027b308-d50c-4a51-a1ec-d7d2898efa6f"
   },
   "outputs": [
    {
     "data": {
      "text/html": [
       "<div>\n",
       "<style scoped>\n",
       "    .dataframe tbody tr th:only-of-type {\n",
       "        vertical-align: middle;\n",
       "    }\n",
       "\n",
       "    .dataframe tbody tr th {\n",
       "        vertical-align: top;\n",
       "    }\n",
       "\n",
       "    .dataframe thead th {\n",
       "        text-align: right;\n",
       "    }\n",
       "</style>\n",
       "<table border=\"1\" class=\"dataframe\">\n",
       "  <thead>\n",
       "    <tr style=\"text-align: right;\">\n",
       "      <th></th>\n",
       "      <th>compound</th>\n",
       "      <th>negative</th>\n",
       "      <th>positive</th>\n",
       "      <th>neutral</th>\n",
       "    </tr>\n",
       "    <tr>\n",
       "      <th>publish_date</th>\n",
       "      <th></th>\n",
       "      <th></th>\n",
       "      <th></th>\n",
       "      <th></th>\n",
       "    </tr>\n",
       "  </thead>\n",
       "  <tbody>\n",
       "    <tr>\n",
       "      <th>2020-12-27</th>\n",
       "      <td>-0.9993</td>\n",
       "      <td>0.110</td>\n",
       "      <td>0.073</td>\n",
       "      <td>0.817</td>\n",
       "    </tr>\n",
       "    <tr>\n",
       "      <th>2020-12-28</th>\n",
       "      <td>-0.9997</td>\n",
       "      <td>0.124</td>\n",
       "      <td>0.083</td>\n",
       "      <td>0.793</td>\n",
       "    </tr>\n",
       "    <tr>\n",
       "      <th>2020-12-29</th>\n",
       "      <td>-0.9997</td>\n",
       "      <td>0.133</td>\n",
       "      <td>0.089</td>\n",
       "      <td>0.778</td>\n",
       "    </tr>\n",
       "    <tr>\n",
       "      <th>2020-12-30</th>\n",
       "      <td>-0.9997</td>\n",
       "      <td>0.122</td>\n",
       "      <td>0.076</td>\n",
       "      <td>0.802</td>\n",
       "    </tr>\n",
       "    <tr>\n",
       "      <th>2020-12-31</th>\n",
       "      <td>-0.9996</td>\n",
       "      <td>0.123</td>\n",
       "      <td>0.093</td>\n",
       "      <td>0.784</td>\n",
       "    </tr>\n",
       "  </tbody>\n",
       "</table>\n",
       "</div>"
      ],
      "text/plain": [
       "              compound  negative  positive  neutral\n",
       "publish_date                                       \n",
       "2020-12-27     -0.9993     0.110     0.073    0.817\n",
       "2020-12-28     -0.9997     0.124     0.083    0.793\n",
       "2020-12-29     -0.9997     0.133     0.089    0.778\n",
       "2020-12-30     -0.9997     0.122     0.076    0.802\n",
       "2020-12-31     -0.9996     0.123     0.093    0.784"
      ]
     },
     "execution_count": 21,
     "metadata": {},
     "output_type": "execute_result"
    }
   ],
   "source": [
    "news_data_mod.tail()"
   ]
  },
  {
   "cell_type": "markdown",
   "metadata": {
    "id": "cNlLAysG8PMN"
   },
   "source": [
    "### TIME SERIES ANALYSIS "
   ]
  },
  {
   "cell_type": "code",
   "execution_count": 23,
   "metadata": {
    "colab": {
     "base_uri": "https://localhost:8080/",
     "height": 225
    },
    "id": "uPl9-_pd8UTp",
    "outputId": "eb320b3d-21de-413a-c649-7369bbe14b7f"
   },
   "outputs": [
    {
     "data": {
      "text/html": [
       "<div>\n",
       "<style scoped>\n",
       "    .dataframe tbody tr th:only-of-type {\n",
       "        vertical-align: middle;\n",
       "    }\n",
       "\n",
       "    .dataframe tbody tr th {\n",
       "        vertical-align: top;\n",
       "    }\n",
       "\n",
       "    .dataframe thead th {\n",
       "        text-align: right;\n",
       "    }\n",
       "</style>\n",
       "<table border=\"1\" class=\"dataframe\">\n",
       "  <thead>\n",
       "    <tr style=\"text-align: right;\">\n",
       "      <th></th>\n",
       "      <th>Open</th>\n",
       "      <th>High</th>\n",
       "      <th>Low</th>\n",
       "      <th>Close</th>\n",
       "      <th>Adj Close</th>\n",
       "      <th>Volume</th>\n",
       "    </tr>\n",
       "    <tr>\n",
       "      <th>Date</th>\n",
       "      <th></th>\n",
       "      <th></th>\n",
       "      <th></th>\n",
       "      <th></th>\n",
       "      <th></th>\n",
       "      <th></th>\n",
       "    </tr>\n",
       "  </thead>\n",
       "  <tbody>\n",
       "    <tr>\n",
       "      <th>2007-09-17</th>\n",
       "      <td>4518.450195</td>\n",
       "      <td>4549.049805</td>\n",
       "      <td>4482.850098</td>\n",
       "      <td>4494.649902</td>\n",
       "      <td>4494.649902</td>\n",
       "      <td>0.0</td>\n",
       "    </tr>\n",
       "    <tr>\n",
       "      <th>2007-09-18</th>\n",
       "      <td>4494.100098</td>\n",
       "      <td>4551.799805</td>\n",
       "      <td>4481.549805</td>\n",
       "      <td>4546.200195</td>\n",
       "      <td>4546.200195</td>\n",
       "      <td>0.0</td>\n",
       "    </tr>\n",
       "    <tr>\n",
       "      <th>2007-09-19</th>\n",
       "      <td>4550.250000</td>\n",
       "      <td>4739.000000</td>\n",
       "      <td>4550.250000</td>\n",
       "      <td>4732.350098</td>\n",
       "      <td>4732.350098</td>\n",
       "      <td>0.0</td>\n",
       "    </tr>\n",
       "    <tr>\n",
       "      <th>2007-09-20</th>\n",
       "      <td>4734.850098</td>\n",
       "      <td>4760.850098</td>\n",
       "      <td>4721.149902</td>\n",
       "      <td>4747.549805</td>\n",
       "      <td>4747.549805</td>\n",
       "      <td>0.0</td>\n",
       "    </tr>\n",
       "    <tr>\n",
       "      <th>2007-09-21</th>\n",
       "      <td>4752.950195</td>\n",
       "      <td>4855.700195</td>\n",
       "      <td>4733.700195</td>\n",
       "      <td>4837.549805</td>\n",
       "      <td>4837.549805</td>\n",
       "      <td>0.0</td>\n",
       "    </tr>\n",
       "  </tbody>\n",
       "</table>\n",
       "</div>"
      ],
      "text/plain": [
       "                   Open         High          Low        Close    Adj Close  \\\n",
       "Date                                                                          \n",
       "2007-09-17  4518.450195  4549.049805  4482.850098  4494.649902  4494.649902   \n",
       "2007-09-18  4494.100098  4551.799805  4481.549805  4546.200195  4546.200195   \n",
       "2007-09-19  4550.250000  4739.000000  4550.250000  4732.350098  4732.350098   \n",
       "2007-09-20  4734.850098  4760.850098  4721.149902  4747.549805  4747.549805   \n",
       "2007-09-21  4752.950195  4855.700195  4733.700195  4837.549805  4837.549805   \n",
       "\n",
       "            Volume  \n",
       "Date                \n",
       "2007-09-17     0.0  \n",
       "2007-09-18     0.0  \n",
       "2007-09-19     0.0  \n",
       "2007-09-20     0.0  \n",
       "2007-09-21     0.0  "
      ]
     },
     "execution_count": 23,
     "metadata": {},
     "output_type": "execute_result"
    }
   ],
   "source": [
    "nifty_data=pd.read_csv('C:/Users/saket/Desktop/PROJECTS/datasets/nifty50.csv',index_col='Date')\n",
    "nifty_data.head()"
   ]
  },
  {
   "cell_type": "code",
   "execution_count": 24,
   "metadata": {
    "colab": {
     "base_uri": "https://localhost:8080/"
    },
    "id": "b0L5c5eu8wT_",
    "outputId": "1ac0041e-3211-48fd-bcf4-418a898c8c14"
   },
   "outputs": [
    {
     "data": {
      "text/plain": [
       "Open         35\n",
       "High         35\n",
       "Low          35\n",
       "Close        35\n",
       "Adj Close    35\n",
       "Volume       35\n",
       "dtype: int64"
      ]
     },
     "execution_count": 24,
     "metadata": {},
     "output_type": "execute_result"
    }
   ],
   "source": [
    "nifty_data.isnull().sum()"
   ]
  },
  {
   "cell_type": "code",
   "execution_count": 25,
   "metadata": {
    "id": "K2WetMiZ8_WX"
   },
   "outputs": [],
   "source": [
    "#drop missing value rows\n",
    "nifty_data.dropna(axis='rows',inplace=True)"
   ]
  },
  {
   "cell_type": "code",
   "execution_count": 26,
   "metadata": {
    "colab": {
     "base_uri": "https://localhost:8080/",
     "height": 421
    },
    "id": "8poqA9xb9JmL",
    "outputId": "7bc7bf12-b5ce-428d-bfb7-c16b29ff16a5"
   },
   "outputs": [
    {
     "data": {
      "text/plain": [
       "<matplotlib.axes._subplots.AxesSubplot at 0x1b6ce0a6c08>"
      ]
     },
     "execution_count": 26,
     "metadata": {},
     "output_type": "execute_result"
    },
    {
     "data": {
      "image/png": "[encoded data removed]",
      "text/plain": [
       "<Figure size 864x432 with 1 Axes>"
      ]
     },
     "metadata": {
      "needs_background": "light"
     },
     "output_type": "display_data"
    }
   ],
   "source": [
    "#plot feature to be predicted later\n",
    "nifty_data['Close'].plot(figsize=(12,6),title='Nifty50 Close Prices')"
   ]
  },
  {
   "cell_type": "code",
   "execution_count": 27,
   "metadata": {
    "colab": {
     "base_uri": "https://localhost:8080/"
    },
    "id": "s5itC5bc9Nrq",
    "outputId": "4d54c08f-7353-441e-cf8e-cb83b802b1af"
   },
   "outputs": [
    {
     "data": {
      "text/plain": [
       "Index(['Open', 'High', 'Low', 'Close', 'Adj Close', 'Volume'], dtype='object')"
      ]
     },
     "execution_count": 27,
     "metadata": {},
     "output_type": "execute_result"
    }
   ],
   "source": [
    "nifty_data.columns"
   ]
  },
  {
   "cell_type": "code",
   "execution_count": 28,
   "metadata": {
    "colab": {
     "base_uri": "https://localhost:8080/",
     "height": 329
    },
    "id": "AcA5PP_S9RGJ",
    "outputId": "1d0b693a-f1f4-4735-d9f4-a8e6520df042"
   },
   "outputs": [
    {
     "data": {
      "text/html": [
       "<div>\n",
       "<style scoped>\n",
       "    .dataframe tbody tr th:only-of-type {\n",
       "        vertical-align: middle;\n",
       "    }\n",
       "\n",
       "    .dataframe tbody tr th {\n",
       "        vertical-align: top;\n",
       "    }\n",
       "\n",
       "    .dataframe thead th {\n",
       "        text-align: right;\n",
       "    }\n",
       "</style>\n",
       "<table border=\"1\" class=\"dataframe\">\n",
       "  <thead>\n",
       "    <tr style=\"text-align: right;\">\n",
       "      <th></th>\n",
       "      <th>Open</th>\n",
       "      <th>High</th>\n",
       "      <th>Low</th>\n",
       "      <th>Close</th>\n",
       "      <th>Adj Close</th>\n",
       "      <th>Volume</th>\n",
       "      <th>Openrolling_mean_3</th>\n",
       "      <th>Openrolling_mean_5</th>\n",
       "      <th>Highrolling_mean_3</th>\n",
       "      <th>Highrolling_mean_5</th>\n",
       "      <th>Lowrolling_mean_3</th>\n",
       "      <th>Lowrolling_mean_5</th>\n",
       "      <th>Openrolling_stnd_3</th>\n",
       "      <th>Openrolling_stnd_5</th>\n",
       "      <th>Highrolling_stnd_3</th>\n",
       "      <th>Highrolling_stnd_5</th>\n",
       "      <th>Lowrolling_stnd_3</th>\n",
       "      <th>Lowrolling_stnd_5</th>\n",
       "    </tr>\n",
       "    <tr>\n",
       "      <th>Date</th>\n",
       "      <th></th>\n",
       "      <th></th>\n",
       "      <th></th>\n",
       "      <th></th>\n",
       "      <th></th>\n",
       "      <th></th>\n",
       "      <th></th>\n",
       "      <th></th>\n",
       "      <th></th>\n",
       "      <th></th>\n",
       "      <th></th>\n",
       "      <th></th>\n",
       "      <th></th>\n",
       "      <th></th>\n",
       "      <th></th>\n",
       "      <th></th>\n",
       "      <th></th>\n",
       "      <th></th>\n",
       "    </tr>\n",
       "  </thead>\n",
       "  <tbody>\n",
       "    <tr>\n",
       "      <th>2007-09-17</th>\n",
       "      <td>4518.450195</td>\n",
       "      <td>4549.049805</td>\n",
       "      <td>4482.850098</td>\n",
       "      <td>4494.649902</td>\n",
       "      <td>4494.649902</td>\n",
       "      <td>0.0</td>\n",
       "      <td>NaN</td>\n",
       "      <td>NaN</td>\n",
       "      <td>NaN</td>\n",
       "      <td>NaN</td>\n",
       "      <td>NaN</td>\n",
       "      <td>NaN</td>\n",
       "      <td>NaN</td>\n",
       "      <td>NaN</td>\n",
       "      <td>NaN</td>\n",
       "      <td>NaN</td>\n",
       "      <td>NaN</td>\n",
       "      <td>NaN</td>\n",
       "    </tr>\n",
       "    <tr>\n",
       "      <th>2007-09-18</th>\n",
       "      <td>4494.100098</td>\n",
       "      <td>4551.799805</td>\n",
       "      <td>4481.549805</td>\n",
       "      <td>4546.200195</td>\n",
       "      <td>4546.200195</td>\n",
       "      <td>0.0</td>\n",
       "      <td>NaN</td>\n",
       "      <td>NaN</td>\n",
       "      <td>NaN</td>\n",
       "      <td>NaN</td>\n",
       "      <td>NaN</td>\n",
       "      <td>NaN</td>\n",
       "      <td>NaN</td>\n",
       "      <td>NaN</td>\n",
       "      <td>NaN</td>\n",
       "      <td>NaN</td>\n",
       "      <td>NaN</td>\n",
       "      <td>NaN</td>\n",
       "    </tr>\n",
       "    <tr>\n",
       "      <th>2007-09-19</th>\n",
       "      <td>4550.250000</td>\n",
       "      <td>4739.000000</td>\n",
       "      <td>4550.250000</td>\n",
       "      <td>4732.350098</td>\n",
       "      <td>4732.350098</td>\n",
       "      <td>0.0</td>\n",
       "      <td>4520.933431</td>\n",
       "      <td>NaN</td>\n",
       "      <td>4613.283203</td>\n",
       "      <td>NaN</td>\n",
       "      <td>4504.883301</td>\n",
       "      <td>NaN</td>\n",
       "      <td>28.157197</td>\n",
       "      <td>NaN</td>\n",
       "      <td>108.882622</td>\n",
       "      <td>NaN</td>\n",
       "      <td>39.294093</td>\n",
       "      <td>NaN</td>\n",
       "    </tr>\n",
       "    <tr>\n",
       "      <th>2007-09-20</th>\n",
       "      <td>4734.850098</td>\n",
       "      <td>4760.850098</td>\n",
       "      <td>4721.149902</td>\n",
       "      <td>4747.549805</td>\n",
       "      <td>4747.549805</td>\n",
       "      <td>0.0</td>\n",
       "      <td>4593.066732</td>\n",
       "      <td>NaN</td>\n",
       "      <td>4683.883301</td>\n",
       "      <td>NaN</td>\n",
       "      <td>4584.316569</td>\n",
       "      <td>NaN</td>\n",
       "      <td>125.956719</td>\n",
       "      <td>NaN</td>\n",
       "      <td>114.908199</td>\n",
       "      <td>NaN</td>\n",
       "      <td>123.379293</td>\n",
       "      <td>NaN</td>\n",
       "    </tr>\n",
       "    <tr>\n",
       "      <th>2007-09-21</th>\n",
       "      <td>4752.950195</td>\n",
       "      <td>4855.700195</td>\n",
       "      <td>4733.700195</td>\n",
       "      <td>4837.549805</td>\n",
       "      <td>4837.549805</td>\n",
       "      <td>0.0</td>\n",
       "      <td>4679.350098</td>\n",
       "      <td>4610.120117</td>\n",
       "      <td>4785.183431</td>\n",
       "      <td>4691.279981</td>\n",
       "      <td>4668.366699</td>\n",
       "      <td>4593.9</td>\n",
       "      <td>112.169647</td>\n",
       "      <td>123.901624</td>\n",
       "      <td>62.038836</td>\n",
       "      <td>135.863305</td>\n",
       "      <td>102.484357</td>\n",
       "      <td>125.096564</td>\n",
       "    </tr>\n",
       "  </tbody>\n",
       "</table>\n",
       "</div>"
      ],
      "text/plain": [
       "                   Open         High          Low        Close    Adj Close  \\\n",
       "Date                                                                          \n",
       "2007-09-17  4518.450195  4549.049805  4482.850098  4494.649902  4494.649902   \n",
       "2007-09-18  4494.100098  4551.799805  4481.549805  4546.200195  4546.200195   \n",
       "2007-09-19  4550.250000  4739.000000  4550.250000  4732.350098  4732.350098   \n",
       "2007-09-20  4734.850098  4760.850098  4721.149902  4747.549805  4747.549805   \n",
       "2007-09-21  4752.950195  4855.700195  4733.700195  4837.549805  4837.549805   \n",
       "\n",
       "            Volume  Openrolling_mean_3  Openrolling_mean_5  \\\n",
       "Date                                                         \n",
       "2007-09-17     0.0                 NaN                 NaN   \n",
       "2007-09-18     0.0                 NaN                 NaN   \n",
       "2007-09-19     0.0         4520.933431                 NaN   \n",
       "2007-09-20     0.0         4593.066732                 NaN   \n",
       "2007-09-21     0.0         4679.350098         4610.120117   \n",
       "\n",
       "            Highrolling_mean_3  Highrolling_mean_5  Lowrolling_mean_3  \\\n",
       "Date                                                                    \n",
       "2007-09-17                 NaN                 NaN                NaN   \n",
       "2007-09-18                 NaN                 NaN                NaN   \n",
       "2007-09-19         4613.283203                 NaN        4504.883301   \n",
       "2007-09-20         4683.883301                 NaN        4584.316569   \n",
       "2007-09-21         4785.183431         4691.279981        4668.366699   \n",
       "\n",
       "            Lowrolling_mean_5  Openrolling_stnd_3  Openrolling_stnd_5  \\\n",
       "Date                                                                    \n",
       "2007-09-17                NaN                 NaN                 NaN   \n",
       "2007-09-18                NaN                 NaN                 NaN   \n",
       "2007-09-19                NaN           28.157197                 NaN   \n",
       "2007-09-20                NaN          125.956719                 NaN   \n",
       "2007-09-21             4593.9          112.169647          123.901624   \n",
       "\n",
       "            Highrolling_stnd_3  Highrolling_stnd_5  Lowrolling_stnd_3  \\\n",
       "Date                                                                    \n",
       "2007-09-17                 NaN                 NaN                NaN   \n",
       "2007-09-18                 NaN                 NaN                NaN   \n",
       "2007-09-19          108.882622                 NaN          39.294093   \n",
       "2007-09-20          114.908199                 NaN         123.379293   \n",
       "2007-09-21           62.038836          135.863305         102.484357   \n",
       "\n",
       "            Lowrolling_stnd_5  \n",
       "Date                           \n",
       "2007-09-17                NaN  \n",
       "2007-09-18                NaN  \n",
       "2007-09-19                NaN  \n",
       "2007-09-20                NaN  \n",
       "2007-09-21         125.096564  "
      ]
     },
     "execution_count": 28,
     "metadata": {},
     "output_type": "execute_result"
    }
   ],
   "source": [
    "#create new columns with rolling mean and stnd deviation of the data features\n",
    "features=['Open', 'High', 'Low']\n",
    "window1=3\n",
    "window2=5\n",
    "for feature in features:\n",
    "    nifty_data[feature+'rolling_mean_3']=nifty_data[feature].rolling(window=window1).mean()\n",
    "    nifty_data[feature+'rolling_mean_5']=nifty_data[feature].rolling(window=window2).mean()\n",
    "for feature in features:\n",
    "    nifty_data[feature+'rolling_stnd_3']=nifty_data[feature].rolling(window=window1).std()\n",
    "    nifty_data[feature+'rolling_stnd_5']=nifty_data[feature].rolling(window=window2).std()\n",
    "nifty_data.head()"
   ]
  },
  {
   "cell_type": "code",
   "execution_count": 29,
   "metadata": {
    "colab": {
     "base_uri": "https://localhost:8080/"
    },
    "id": "pjlGhja29bPU",
    "outputId": "f3d4e3a7-b0c3-493f-e340-04b26381d4ed"
   },
   "outputs": [
    {
     "data": {
      "text/plain": [
       "Open                  0\n",
       "High                  0\n",
       "Low                   0\n",
       "Close                 0\n",
       "Adj Close             0\n",
       "Volume                0\n",
       "Openrolling_mean_3    2\n",
       "Openrolling_mean_5    4\n",
       "Highrolling_mean_3    2\n",
       "Highrolling_mean_5    4\n",
       "Lowrolling_mean_3     2\n",
       "Lowrolling_mean_5     4\n",
       "Openrolling_stnd_3    2\n",
       "Openrolling_stnd_5    4\n",
       "Highrolling_stnd_3    2\n",
       "Highrolling_stnd_5    4\n",
       "Lowrolling_stnd_3     2\n",
       "Lowrolling_stnd_5     4\n",
       "dtype: int64"
      ]
     },
     "execution_count": 29,
     "metadata": {},
     "output_type": "execute_result"
    }
   ],
   "source": [
    "nifty_data.isna().sum()"
   ]
  },
  {
   "cell_type": "code",
   "execution_count": 30,
   "metadata": {
    "colab": {
     "base_uri": "https://localhost:8080/"
    },
    "id": "lh26b0O49eMt",
    "outputId": "e18d068a-466d-448f-f08a-db2290fa269b"
   },
   "outputs": [
    {
     "data": {
      "text/plain": [
       "Open                  0\n",
       "High                  0\n",
       "Low                   0\n",
       "Close                 0\n",
       "Adj Close             0\n",
       "Volume                0\n",
       "Openrolling_mean_3    0\n",
       "Openrolling_mean_5    0\n",
       "Highrolling_mean_3    0\n",
       "Highrolling_mean_5    0\n",
       "Lowrolling_mean_3     0\n",
       "Lowrolling_mean_5     0\n",
       "Openrolling_stnd_3    0\n",
       "Openrolling_stnd_5    0\n",
       "Highrolling_stnd_3    0\n",
       "Highrolling_stnd_5    0\n",
       "Lowrolling_stnd_3     0\n",
       "Lowrolling_stnd_5     0\n",
       "dtype: int64"
      ]
     },
     "execution_count": 30,
     "metadata": {},
     "output_type": "execute_result"
    }
   ],
   "source": [
    "nifty_data.dropna(inplace=True)\n",
    "nifty_data.isna().sum()"
   ]
  },
  {
   "cell_type": "markdown",
   "metadata": {
    "id": "wGZHYh2K-wOP"
   },
   "source": [
    "### TIME SERIES + SENTIMENT DATA MERGE"
   ]
  },
  {
   "cell_type": "markdown",
   "metadata": {
    "id": "bWRhJvEdSfRZ"
   },
   "source": [
    "news data is only available till 2017 in the dataset. So if we use inner join, merged_Data will have data only till 2017."
   ]
  },
  {
   "cell_type": "code",
   "execution_count": 31,
   "metadata": {
    "colab": {
     "base_uri": "https://localhost:8080/",
     "height": 299
    },
    "id": "pPtmnoVa9rXB",
    "outputId": "7169dcf4-5226-4e4e-a5a4-ffea24677386"
   },
   "outputs": [
    {
     "data": {
      "text/html": [
       "<div>\n",
       "<style scoped>\n",
       "    .dataframe tbody tr th:only-of-type {\n",
       "        vertical-align: middle;\n",
       "    }\n",
       "\n",
       "    .dataframe tbody tr th {\n",
       "        vertical-align: top;\n",
       "    }\n",
       "\n",
       "    .dataframe thead th {\n",
       "        text-align: right;\n",
       "    }\n",
       "</style>\n",
       "<table border=\"1\" class=\"dataframe\">\n",
       "  <thead>\n",
       "    <tr style=\"text-align: right;\">\n",
       "      <th></th>\n",
       "      <th>Open</th>\n",
       "      <th>High</th>\n",
       "      <th>Low</th>\n",
       "      <th>Close</th>\n",
       "      <th>Adj Close</th>\n",
       "      <th>Volume</th>\n",
       "      <th>Openrolling_mean_3</th>\n",
       "      <th>Openrolling_mean_5</th>\n",
       "      <th>Highrolling_mean_3</th>\n",
       "      <th>Highrolling_mean_5</th>\n",
       "      <th>...</th>\n",
       "      <th>Openrolling_stnd_3</th>\n",
       "      <th>Openrolling_stnd_5</th>\n",
       "      <th>Highrolling_stnd_3</th>\n",
       "      <th>Highrolling_stnd_5</th>\n",
       "      <th>Lowrolling_stnd_3</th>\n",
       "      <th>Lowrolling_stnd_5</th>\n",
       "      <th>compound</th>\n",
       "      <th>negative</th>\n",
       "      <th>positive</th>\n",
       "      <th>neutral</th>\n",
       "    </tr>\n",
       "  </thead>\n",
       "  <tbody>\n",
       "    <tr>\n",
       "      <th>2007-09-21</th>\n",
       "      <td>4752.950195</td>\n",
       "      <td>4855.700195</td>\n",
       "      <td>4733.700195</td>\n",
       "      <td>4837.549805</td>\n",
       "      <td>4837.549805</td>\n",
       "      <td>0.0</td>\n",
       "      <td>4679.350098</td>\n",
       "      <td>4610.120117</td>\n",
       "      <td>4785.183431</td>\n",
       "      <td>4691.279981</td>\n",
       "      <td>...</td>\n",
       "      <td>112.169647</td>\n",
       "      <td>123.901624</td>\n",
       "      <td>62.038836</td>\n",
       "      <td>135.863305</td>\n",
       "      <td>102.484357</td>\n",
       "      <td>125.096564</td>\n",
       "      <td>-0.9989</td>\n",
       "      <td>0.140</td>\n",
       "      <td>0.057</td>\n",
       "      <td>0.803</td>\n",
       "    </tr>\n",
       "    <tr>\n",
       "      <th>2007-09-24</th>\n",
       "      <td>4837.149902</td>\n",
       "      <td>4941.149902</td>\n",
       "      <td>4837.149902</td>\n",
       "      <td>4932.200195</td>\n",
       "      <td>4932.200195</td>\n",
       "      <td>0.0</td>\n",
       "      <td>4774.983398</td>\n",
       "      <td>4673.860059</td>\n",
       "      <td>4852.566732</td>\n",
       "      <td>4769.700000</td>\n",
       "      <td>...</td>\n",
       "      <td>54.593122</td>\n",
       "      <td>145.113488</td>\n",
       "      <td>90.190736</td>\n",
       "      <td>146.024320</td>\n",
       "      <td>63.659710</td>\n",
       "      <td>145.197594</td>\n",
       "      <td>-0.9968</td>\n",
       "      <td>0.119</td>\n",
       "      <td>0.083</td>\n",
       "      <td>0.798</td>\n",
       "    </tr>\n",
       "    <tr>\n",
       "      <th>2007-09-25</th>\n",
       "      <td>4939.100098</td>\n",
       "      <td>4953.899902</td>\n",
       "      <td>4878.149902</td>\n",
       "      <td>4938.850098</td>\n",
       "      <td>4938.850098</td>\n",
       "      <td>0.0</td>\n",
       "      <td>4843.066732</td>\n",
       "      <td>4762.860059</td>\n",
       "      <td>4916.916666</td>\n",
       "      <td>4850.120019</td>\n",
       "      <td>...</td>\n",
       "      <td>93.215896</td>\n",
       "      <td>143.757898</td>\n",
       "      <td>53.396937</td>\n",
       "      <td>99.252984</td>\n",
       "      <td>74.440759</td>\n",
       "      <td>127.318836</td>\n",
       "      <td>-0.3788</td>\n",
       "      <td>0.099</td>\n",
       "      <td>0.100</td>\n",
       "      <td>0.802</td>\n",
       "    </tr>\n",
       "    <tr>\n",
       "      <th>2007-09-26</th>\n",
       "      <td>4937.600098</td>\n",
       "      <td>4980.850098</td>\n",
       "      <td>4930.350098</td>\n",
       "      <td>4940.500000</td>\n",
       "      <td>4940.500000</td>\n",
       "      <td>0.0</td>\n",
       "      <td>4904.616699</td>\n",
       "      <td>4840.330078</td>\n",
       "      <td>4958.633301</td>\n",
       "      <td>4898.490039</td>\n",
       "      <td>...</td>\n",
       "      <td>58.432774</td>\n",
       "      <td>97.453011</td>\n",
       "      <td>20.268946</td>\n",
       "      <td>90.068058</td>\n",
       "      <td>46.712127</td>\n",
       "      <td>90.928025</td>\n",
       "      <td>-0.9922</td>\n",
       "      <td>0.128</td>\n",
       "      <td>0.097</td>\n",
       "      <td>0.775</td>\n",
       "    </tr>\n",
       "    <tr>\n",
       "      <th>2007-09-27</th>\n",
       "      <td>4942.700195</td>\n",
       "      <td>5016.399902</td>\n",
       "      <td>4942.700195</td>\n",
       "      <td>5000.549805</td>\n",
       "      <td>5000.549805</td>\n",
       "      <td>0.0</td>\n",
       "      <td>4939.800130</td>\n",
       "      <td>4881.900098</td>\n",
       "      <td>4983.716634</td>\n",
       "      <td>4949.600000</td>\n",
       "      <td>...</td>\n",
       "      <td>2.621122</td>\n",
       "      <td>84.707791</td>\n",
       "      <td>31.348449</td>\n",
       "      <td>59.887107</td>\n",
       "      <td>34.263989</td>\n",
       "      <td>84.401425</td>\n",
       "      <td>-0.9670</td>\n",
       "      <td>0.126</td>\n",
       "      <td>0.122</td>\n",
       "      <td>0.752</td>\n",
       "    </tr>\n",
       "  </tbody>\n",
       "</table>\n",
       "<p>5 rows × 22 columns</p>\n",
       "</div>"
      ],
      "text/plain": [
       "                   Open         High          Low        Close    Adj Close  \\\n",
       "2007-09-21  4752.950195  4855.700195  4733.700195  4837.549805  4837.549805   \n",
       "2007-09-24  4837.149902  4941.149902  4837.149902  4932.200195  4932.200195   \n",
       "2007-09-25  4939.100098  4953.899902  4878.149902  4938.850098  4938.850098   \n",
       "2007-09-26  4937.600098  4980.850098  4930.350098  4940.500000  4940.500000   \n",
       "2007-09-27  4942.700195  5016.399902  4942.700195  5000.549805  5000.549805   \n",
       "\n",
       "            Volume  Openrolling_mean_3  Openrolling_mean_5  \\\n",
       "2007-09-21     0.0         4679.350098         4610.120117   \n",
       "2007-09-24     0.0         4774.983398         4673.860059   \n",
       "2007-09-25     0.0         4843.066732         4762.860059   \n",
       "2007-09-26     0.0         4904.616699         4840.330078   \n",
       "2007-09-27     0.0         4939.800130         4881.900098   \n",
       "\n",
       "            Highrolling_mean_3  Highrolling_mean_5  ...  Openrolling_stnd_3  \\\n",
       "2007-09-21         4785.183431         4691.279981  ...          112.169647   \n",
       "2007-09-24         4852.566732         4769.700000  ...           54.593122   \n",
       "2007-09-25         4916.916666         4850.120019  ...           93.215896   \n",
       "2007-09-26         4958.633301         4898.490039  ...           58.432774   \n",
       "2007-09-27         4983.716634         4949.600000  ...            2.621122   \n",
       "\n",
       "            Openrolling_stnd_5  Highrolling_stnd_3  Highrolling_stnd_5  \\\n",
       "2007-09-21          123.901624           62.038836          135.863305   \n",
       "2007-09-24          145.113488           90.190736          146.024320   \n",
       "2007-09-25          143.757898           53.396937           99.252984   \n",
       "2007-09-26           97.453011           20.268946           90.068058   \n",
       "2007-09-27           84.707791           31.348449           59.887107   \n",
       "\n",
       "            Lowrolling_stnd_3  Lowrolling_stnd_5  compound  negative  \\\n",
       "2007-09-21         102.484357         125.096564   -0.9989     0.140   \n",
       "2007-09-24          63.659710         145.197594   -0.9968     0.119   \n",
       "2007-09-25          74.440759         127.318836   -0.3788     0.099   \n",
       "2007-09-26          46.712127          90.928025   -0.9922     0.128   \n",
       "2007-09-27          34.263989          84.401425   -0.9670     0.126   \n",
       "\n",
       "            positive  neutral  \n",
       "2007-09-21     0.057    0.803  \n",
       "2007-09-24     0.083    0.798  \n",
       "2007-09-25     0.100    0.802  \n",
       "2007-09-26     0.097    0.775  \n",
       "2007-09-27     0.122    0.752  \n",
       "\n",
       "[5 rows x 22 columns]"
      ]
     },
     "execution_count": 31,
     "metadata": {},
     "output_type": "execute_result"
    }
   ],
   "source": [
    "#nifty50 data in nifty_data_mod & news data in news_data_mod\n",
    "#data is merged fro 2007 and news data from 2001 to 2007 is not considered\n",
    "merged_data= pd.concat([nifty_data,news_data_mod],axis=1)\n",
    "merged_data.head()\n",
    "#merged_data.shape"
   ]
  },
  {
   "cell_type": "code",
   "execution_count": 32,
   "metadata": {
    "id": "dcyD8zk4Z3Og"
   },
   "outputs": [],
   "source": [
    "# save merged data to disk as csv file\n",
    "merged_data.to_csv('merged_data.csv')"
   ]
  },
  {
   "cell_type": "code",
   "execution_count": 33,
   "metadata": {
    "colab": {
     "base_uri": "https://localhost:8080/"
    },
    "id": "o8hOkHXQMVuf",
    "outputId": "00f10370-abe2-47da-8575-5653fa83b244"
   },
   "outputs": [
    {
     "data": {
      "text/plain": [
       "(7330, 22)"
      ]
     },
     "execution_count": 33,
     "metadata": {},
     "output_type": "execute_result"
    }
   ],
   "source": [
    "merged_data.shape"
   ]
  },
  {
   "cell_type": "code",
   "execution_count": 34,
   "metadata": {
    "colab": {
     "base_uri": "https://localhost:8080/",
     "height": 299
    },
    "id": "vhvZcfNfOcz6",
    "outputId": "a7b0812e-7e0c-4f99-a893-131320868528"
   },
   "outputs": [
    {
     "data": {
      "text/html": [
       "<div>\n",
       "<style scoped>\n",
       "    .dataframe tbody tr th:only-of-type {\n",
       "        vertical-align: middle;\n",
       "    }\n",
       "\n",
       "    .dataframe tbody tr th {\n",
       "        vertical-align: top;\n",
       "    }\n",
       "\n",
       "    .dataframe thead th {\n",
       "        text-align: right;\n",
       "    }\n",
       "</style>\n",
       "<table border=\"1\" class=\"dataframe\">\n",
       "  <thead>\n",
       "    <tr style=\"text-align: right;\">\n",
       "      <th></th>\n",
       "      <th>Open</th>\n",
       "      <th>High</th>\n",
       "      <th>Low</th>\n",
       "      <th>Close</th>\n",
       "      <th>Adj Close</th>\n",
       "      <th>Volume</th>\n",
       "      <th>Openrolling_mean_3</th>\n",
       "      <th>Openrolling_mean_5</th>\n",
       "      <th>Highrolling_mean_3</th>\n",
       "      <th>Highrolling_mean_5</th>\n",
       "      <th>...</th>\n",
       "      <th>Lowrolling_stnd_3</th>\n",
       "      <th>Lowrolling_stnd_5</th>\n",
       "      <th>compound</th>\n",
       "      <th>negative</th>\n",
       "      <th>positive</th>\n",
       "      <th>neutral</th>\n",
       "      <th>Diff_openclose</th>\n",
       "      <th>Diff_highlow</th>\n",
       "      <th>Ratio_highlow</th>\n",
       "      <th>Ratio_closeopen</th>\n",
       "    </tr>\n",
       "  </thead>\n",
       "  <tbody>\n",
       "    <tr>\n",
       "      <th>2007-09-21</th>\n",
       "      <td>4752.950195</td>\n",
       "      <td>4855.700195</td>\n",
       "      <td>4733.700195</td>\n",
       "      <td>4837.549805</td>\n",
       "      <td>4837.549805</td>\n",
       "      <td>0.0</td>\n",
       "      <td>4679.350098</td>\n",
       "      <td>4610.120117</td>\n",
       "      <td>4785.183431</td>\n",
       "      <td>4691.279981</td>\n",
       "      <td>...</td>\n",
       "      <td>102.484357</td>\n",
       "      <td>125.096564</td>\n",
       "      <td>-0.9989</td>\n",
       "      <td>0.140</td>\n",
       "      <td>0.057</td>\n",
       "      <td>0.803</td>\n",
       "      <td>84.599610</td>\n",
       "      <td>122.000000</td>\n",
       "      <td>1.025773</td>\n",
       "      <td>1.017799</td>\n",
       "    </tr>\n",
       "    <tr>\n",
       "      <th>2007-09-24</th>\n",
       "      <td>4837.149902</td>\n",
       "      <td>4941.149902</td>\n",
       "      <td>4837.149902</td>\n",
       "      <td>4932.200195</td>\n",
       "      <td>4932.200195</td>\n",
       "      <td>0.0</td>\n",
       "      <td>4774.983398</td>\n",
       "      <td>4673.860059</td>\n",
       "      <td>4852.566732</td>\n",
       "      <td>4769.700000</td>\n",
       "      <td>...</td>\n",
       "      <td>63.659710</td>\n",
       "      <td>145.197594</td>\n",
       "      <td>-0.9968</td>\n",
       "      <td>0.119</td>\n",
       "      <td>0.083</td>\n",
       "      <td>0.798</td>\n",
       "      <td>95.050293</td>\n",
       "      <td>104.000000</td>\n",
       "      <td>1.021500</td>\n",
       "      <td>1.019650</td>\n",
       "    </tr>\n",
       "    <tr>\n",
       "      <th>2007-09-25</th>\n",
       "      <td>4939.100098</td>\n",
       "      <td>4953.899902</td>\n",
       "      <td>4878.149902</td>\n",
       "      <td>4938.850098</td>\n",
       "      <td>4938.850098</td>\n",
       "      <td>0.0</td>\n",
       "      <td>4843.066732</td>\n",
       "      <td>4762.860059</td>\n",
       "      <td>4916.916666</td>\n",
       "      <td>4850.120019</td>\n",
       "      <td>...</td>\n",
       "      <td>74.440759</td>\n",
       "      <td>127.318836</td>\n",
       "      <td>-0.3788</td>\n",
       "      <td>0.099</td>\n",
       "      <td>0.100</td>\n",
       "      <td>0.802</td>\n",
       "      <td>-0.250000</td>\n",
       "      <td>75.750000</td>\n",
       "      <td>1.015528</td>\n",
       "      <td>0.999949</td>\n",
       "    </tr>\n",
       "    <tr>\n",
       "      <th>2007-09-26</th>\n",
       "      <td>4937.600098</td>\n",
       "      <td>4980.850098</td>\n",
       "      <td>4930.350098</td>\n",
       "      <td>4940.500000</td>\n",
       "      <td>4940.500000</td>\n",
       "      <td>0.0</td>\n",
       "      <td>4904.616699</td>\n",
       "      <td>4840.330078</td>\n",
       "      <td>4958.633301</td>\n",
       "      <td>4898.490039</td>\n",
       "      <td>...</td>\n",
       "      <td>46.712127</td>\n",
       "      <td>90.928025</td>\n",
       "      <td>-0.9922</td>\n",
       "      <td>0.128</td>\n",
       "      <td>0.097</td>\n",
       "      <td>0.775</td>\n",
       "      <td>2.899902</td>\n",
       "      <td>50.500000</td>\n",
       "      <td>1.010243</td>\n",
       "      <td>1.000587</td>\n",
       "    </tr>\n",
       "    <tr>\n",
       "      <th>2007-09-27</th>\n",
       "      <td>4942.700195</td>\n",
       "      <td>5016.399902</td>\n",
       "      <td>4942.700195</td>\n",
       "      <td>5000.549805</td>\n",
       "      <td>5000.549805</td>\n",
       "      <td>0.0</td>\n",
       "      <td>4939.800130</td>\n",
       "      <td>4881.900098</td>\n",
       "      <td>4983.716634</td>\n",
       "      <td>4949.600000</td>\n",
       "      <td>...</td>\n",
       "      <td>34.263989</td>\n",
       "      <td>84.401425</td>\n",
       "      <td>-0.9670</td>\n",
       "      <td>0.126</td>\n",
       "      <td>0.122</td>\n",
       "      <td>0.752</td>\n",
       "      <td>57.849610</td>\n",
       "      <td>73.699707</td>\n",
       "      <td>1.014911</td>\n",
       "      <td>1.011704</td>\n",
       "    </tr>\n",
       "  </tbody>\n",
       "</table>\n",
       "<p>5 rows × 26 columns</p>\n",
       "</div>"
      ],
      "text/plain": [
       "                   Open         High          Low        Close    Adj Close  \\\n",
       "2007-09-21  4752.950195  4855.700195  4733.700195  4837.549805  4837.549805   \n",
       "2007-09-24  4837.149902  4941.149902  4837.149902  4932.200195  4932.200195   \n",
       "2007-09-25  4939.100098  4953.899902  4878.149902  4938.850098  4938.850098   \n",
       "2007-09-26  4937.600098  4980.850098  4930.350098  4940.500000  4940.500000   \n",
       "2007-09-27  4942.700195  5016.399902  4942.700195  5000.549805  5000.549805   \n",
       "\n",
       "            Volume  Openrolling_mean_3  Openrolling_mean_5  \\\n",
       "2007-09-21     0.0         4679.350098         4610.120117   \n",
       "2007-09-24     0.0         4774.983398         4673.860059   \n",
       "2007-09-25     0.0         4843.066732         4762.860059   \n",
       "2007-09-26     0.0         4904.616699         4840.330078   \n",
       "2007-09-27     0.0         4939.800130         4881.900098   \n",
       "\n",
       "            Highrolling_mean_3  Highrolling_mean_5  ...  Lowrolling_stnd_3  \\\n",
       "2007-09-21         4785.183431         4691.279981  ...         102.484357   \n",
       "2007-09-24         4852.566732         4769.700000  ...          63.659710   \n",
       "2007-09-25         4916.916666         4850.120019  ...          74.440759   \n",
       "2007-09-26         4958.633301         4898.490039  ...          46.712127   \n",
       "2007-09-27         4983.716634         4949.600000  ...          34.263989   \n",
       "\n",
       "            Lowrolling_stnd_5  compound  negative  positive  neutral  \\\n",
       "2007-09-21         125.096564   -0.9989     0.140     0.057    0.803   \n",
       "2007-09-24         145.197594   -0.9968     0.119     0.083    0.798   \n",
       "2007-09-25         127.318836   -0.3788     0.099     0.100    0.802   \n",
       "2007-09-26          90.928025   -0.9922     0.128     0.097    0.775   \n",
       "2007-09-27          84.401425   -0.9670     0.126     0.122    0.752   \n",
       "\n",
       "            Diff_openclose  Diff_highlow  Ratio_highlow  Ratio_closeopen  \n",
       "2007-09-21       84.599610    122.000000       1.025773         1.017799  \n",
       "2007-09-24       95.050293    104.000000       1.021500         1.019650  \n",
       "2007-09-25       -0.250000     75.750000       1.015528         0.999949  \n",
       "2007-09-26        2.899902     50.500000       1.010243         1.000587  \n",
       "2007-09-27       57.849610     73.699707       1.014911         1.011704  \n",
       "\n",
       "[5 rows x 26 columns]"
      ]
     },
     "execution_count": 34,
     "metadata": {},
     "output_type": "execute_result"
    }
   ],
   "source": [
    "## lets create some new features using mutual information\n",
    "merged_data['Diff_openclose']=merged_data['Close']-merged_data['Open']\n",
    "merged_data['Diff_highlow']=merged_data['High']-merged_data['Low']\n",
    "merged_data['Ratio_highlow']=merged_data['High']/merged_data['Low']\n",
    "merged_data['Ratio_closeopen']=merged_data['Close']/merged_data['Open']\n",
    "merged_data.head()"
   ]
  },
  {
   "cell_type": "code",
   "execution_count": 35,
   "metadata": {
    "colab": {
     "base_uri": "https://localhost:8080/",
     "height": 52
    },
    "id": "uo82bSyhX10-",
    "outputId": "4384aa4c-6f46-417f-ac1a-10ea8c1edd2e"
   },
   "outputs": [
    {
     "data": {
      "text/plain": [
       "'def make_mi_scores(X, y, discrete_features):\\n    mi_scores = mutual_info_regression(X, y, discrete_features=discrete_features)\\n    mi_scores = pd.Series(mi_scores, name=\"MI Scores\", index=X.columns)\\n    mi_scores = mi_scores.sort_values(ascending=False)\\n    return mi_scores'"
      ]
     },
     "execution_count": 35,
     "metadata": {},
     "output_type": "execute_result"
    }
   ],
   "source": [
    "#MUTUAL_INFORMATION\n",
    "'''def make_mi_scores(X, y, discrete_features):\n",
    "    mi_scores = mutual_info_regression(X, y, discrete_features=discrete_features)\n",
    "    mi_scores = pd.Series(mi_scores, name=\"MI Scores\", index=X.columns)\n",
    "    mi_scores = mi_scores.sort_values(ascending=False)\n",
    "    return mi_scores'''"
   ]
  },
  {
   "cell_type": "code",
   "execution_count": 36,
   "metadata": {
    "colab": {
     "base_uri": "https://localhost:8080/",
     "height": 128
    },
    "id": "HDxoLwqYPS3p",
    "outputId": "0ea5c2d5-b4ee-4cec-9460-13bae248bc05"
   },
   "outputs": [],
   "source": [
    "#decide features to include in prediction later\n",
    "ind_features=['Openrolling_mean_3', 'Openrolling_mean_5', 'Highrolling_mean_3',\n",
    "       'Highrolling_mean_5', 'Lowrolling_mean_3', 'Lowrolling_mean_5',\n",
    "       #'Volumerolling_mean_3', 'Volumerolling_mean_5', \n",
    "       'Openrolling_stnd_3','Openrolling_stnd_5', 'Highrolling_stnd_3', 'Highrolling_stnd_5',\n",
    "       'Lowrolling_stnd_3', 'Lowrolling_stnd_5',\n",
    "       'compound','negative','positive','neutral',\n",
    "       'Diff_openclose','Diff_highlow',\n",
    "       #'Ratio_closeopen',\n",
    "       'Ratio_highlow']\n",
    "       #'Volumerolling_stnd_3','Volumerolling_stnd_5'"
   ]
  },
  {
   "cell_type": "markdown",
   "metadata": {},
   "source": [
    "### CLEAN DATA "
   ]
  },
  {
   "cell_type": "code",
   "execution_count": 37,
   "metadata": {},
   "outputs": [
    {
     "data": {
      "text/html": [
       "<div>\n",
       "<style scoped>\n",
       "    .dataframe tbody tr th:only-of-type {\n",
       "        vertical-align: middle;\n",
       "    }\n",
       "\n",
       "    .dataframe tbody tr th {\n",
       "        vertical-align: top;\n",
       "    }\n",
       "\n",
       "    .dataframe thead th {\n",
       "        text-align: right;\n",
       "    }\n",
       "</style>\n",
       "<table border=\"1\" class=\"dataframe\">\n",
       "  <thead>\n",
       "    <tr style=\"text-align: right;\">\n",
       "      <th></th>\n",
       "      <th>Open</th>\n",
       "      <th>High</th>\n",
       "      <th>Low</th>\n",
       "      <th>Close</th>\n",
       "      <th>Adj Close</th>\n",
       "      <th>Volume</th>\n",
       "      <th>Openrolling_mean_3</th>\n",
       "      <th>Openrolling_mean_5</th>\n",
       "      <th>Highrolling_mean_3</th>\n",
       "      <th>Highrolling_mean_5</th>\n",
       "      <th>...</th>\n",
       "      <th>Lowrolling_stnd_3</th>\n",
       "      <th>Lowrolling_stnd_5</th>\n",
       "      <th>compound</th>\n",
       "      <th>negative</th>\n",
       "      <th>positive</th>\n",
       "      <th>neutral</th>\n",
       "      <th>Diff_openclose</th>\n",
       "      <th>Diff_highlow</th>\n",
       "      <th>Ratio_highlow</th>\n",
       "      <th>Ratio_closeopen</th>\n",
       "    </tr>\n",
       "  </thead>\n",
       "  <tbody>\n",
       "    <tr>\n",
       "      <th>2020-12-19</th>\n",
       "      <td>NaN</td>\n",
       "      <td>NaN</td>\n",
       "      <td>NaN</td>\n",
       "      <td>NaN</td>\n",
       "      <td>NaN</td>\n",
       "      <td>NaN</td>\n",
       "      <td>NaN</td>\n",
       "      <td>NaN</td>\n",
       "      <td>NaN</td>\n",
       "      <td>NaN</td>\n",
       "      <td>...</td>\n",
       "      <td>NaN</td>\n",
       "      <td>NaN</td>\n",
       "      <td>-0.9996</td>\n",
       "      <td>0.123</td>\n",
       "      <td>0.088</td>\n",
       "      <td>0.789</td>\n",
       "      <td>NaN</td>\n",
       "      <td>NaN</td>\n",
       "      <td>NaN</td>\n",
       "      <td>NaN</td>\n",
       "    </tr>\n",
       "    <tr>\n",
       "      <th>2020-12-20</th>\n",
       "      <td>NaN</td>\n",
       "      <td>NaN</td>\n",
       "      <td>NaN</td>\n",
       "      <td>NaN</td>\n",
       "      <td>NaN</td>\n",
       "      <td>NaN</td>\n",
       "      <td>NaN</td>\n",
       "      <td>NaN</td>\n",
       "      <td>NaN</td>\n",
       "      <td>NaN</td>\n",
       "      <td>...</td>\n",
       "      <td>NaN</td>\n",
       "      <td>NaN</td>\n",
       "      <td>-0.9998</td>\n",
       "      <td>0.125</td>\n",
       "      <td>0.075</td>\n",
       "      <td>0.800</td>\n",
       "      <td>NaN</td>\n",
       "      <td>NaN</td>\n",
       "      <td>NaN</td>\n",
       "      <td>NaN</td>\n",
       "    </tr>\n",
       "    <tr>\n",
       "      <th>2020-12-25</th>\n",
       "      <td>NaN</td>\n",
       "      <td>NaN</td>\n",
       "      <td>NaN</td>\n",
       "      <td>NaN</td>\n",
       "      <td>NaN</td>\n",
       "      <td>NaN</td>\n",
       "      <td>NaN</td>\n",
       "      <td>NaN</td>\n",
       "      <td>NaN</td>\n",
       "      <td>NaN</td>\n",
       "      <td>...</td>\n",
       "      <td>NaN</td>\n",
       "      <td>NaN</td>\n",
       "      <td>0.9517</td>\n",
       "      <td>0.095</td>\n",
       "      <td>0.099</td>\n",
       "      <td>0.806</td>\n",
       "      <td>NaN</td>\n",
       "      <td>NaN</td>\n",
       "      <td>NaN</td>\n",
       "      <td>NaN</td>\n",
       "    </tr>\n",
       "    <tr>\n",
       "      <th>2020-12-26</th>\n",
       "      <td>NaN</td>\n",
       "      <td>NaN</td>\n",
       "      <td>NaN</td>\n",
       "      <td>NaN</td>\n",
       "      <td>NaN</td>\n",
       "      <td>NaN</td>\n",
       "      <td>NaN</td>\n",
       "      <td>NaN</td>\n",
       "      <td>NaN</td>\n",
       "      <td>NaN</td>\n",
       "      <td>...</td>\n",
       "      <td>NaN</td>\n",
       "      <td>NaN</td>\n",
       "      <td>-0.9996</td>\n",
       "      <td>0.133</td>\n",
       "      <td>0.101</td>\n",
       "      <td>0.766</td>\n",
       "      <td>NaN</td>\n",
       "      <td>NaN</td>\n",
       "      <td>NaN</td>\n",
       "      <td>NaN</td>\n",
       "    </tr>\n",
       "    <tr>\n",
       "      <th>2020-12-27</th>\n",
       "      <td>NaN</td>\n",
       "      <td>NaN</td>\n",
       "      <td>NaN</td>\n",
       "      <td>NaN</td>\n",
       "      <td>NaN</td>\n",
       "      <td>NaN</td>\n",
       "      <td>NaN</td>\n",
       "      <td>NaN</td>\n",
       "      <td>NaN</td>\n",
       "      <td>NaN</td>\n",
       "      <td>...</td>\n",
       "      <td>NaN</td>\n",
       "      <td>NaN</td>\n",
       "      <td>-0.9993</td>\n",
       "      <td>0.110</td>\n",
       "      <td>0.073</td>\n",
       "      <td>0.817</td>\n",
       "      <td>NaN</td>\n",
       "      <td>NaN</td>\n",
       "      <td>NaN</td>\n",
       "      <td>NaN</td>\n",
       "    </tr>\n",
       "  </tbody>\n",
       "</table>\n",
       "<p>5 rows × 26 columns</p>\n",
       "</div>"
      ],
      "text/plain": [
       "            Open  High  Low  Close  Adj Close  Volume  Openrolling_mean_3  \\\n",
       "2020-12-19   NaN   NaN  NaN    NaN        NaN     NaN                 NaN   \n",
       "2020-12-20   NaN   NaN  NaN    NaN        NaN     NaN                 NaN   \n",
       "2020-12-25   NaN   NaN  NaN    NaN        NaN     NaN                 NaN   \n",
       "2020-12-26   NaN   NaN  NaN    NaN        NaN     NaN                 NaN   \n",
       "2020-12-27   NaN   NaN  NaN    NaN        NaN     NaN                 NaN   \n",
       "\n",
       "            Openrolling_mean_5  Highrolling_mean_3  Highrolling_mean_5  ...  \\\n",
       "2020-12-19                 NaN                 NaN                 NaN  ...   \n",
       "2020-12-20                 NaN                 NaN                 NaN  ...   \n",
       "2020-12-25                 NaN                 NaN                 NaN  ...   \n",
       "2020-12-26                 NaN                 NaN                 NaN  ...   \n",
       "2020-12-27                 NaN                 NaN                 NaN  ...   \n",
       "\n",
       "            Lowrolling_stnd_3  Lowrolling_stnd_5  compound  negative  \\\n",
       "2020-12-19                NaN                NaN   -0.9996     0.123   \n",
       "2020-12-20                NaN                NaN   -0.9998     0.125   \n",
       "2020-12-25                NaN                NaN    0.9517     0.095   \n",
       "2020-12-26                NaN                NaN   -0.9996     0.133   \n",
       "2020-12-27                NaN                NaN   -0.9993     0.110   \n",
       "\n",
       "            positive  neutral  Diff_openclose  Diff_highlow  Ratio_highlow  \\\n",
       "2020-12-19     0.088    0.789             NaN           NaN            NaN   \n",
       "2020-12-20     0.075    0.800             NaN           NaN            NaN   \n",
       "2020-12-25     0.099    0.806             NaN           NaN            NaN   \n",
       "2020-12-26     0.101    0.766             NaN           NaN            NaN   \n",
       "2020-12-27     0.073    0.817             NaN           NaN            NaN   \n",
       "\n",
       "            Ratio_closeopen  \n",
       "2020-12-19              NaN  \n",
       "2020-12-20              NaN  \n",
       "2020-12-25              NaN  \n",
       "2020-12-26              NaN  \n",
       "2020-12-27              NaN  \n",
       "\n",
       "[5 rows x 26 columns]"
      ]
     },
     "execution_count": 37,
     "metadata": {},
     "output_type": "execute_result"
    }
   ],
   "source": [
    "merged_data.tail()"
   ]
  },
  {
   "cell_type": "code",
   "execution_count": 38,
   "metadata": {
    "id": "-X4mB82IFc1w"
   },
   "outputs": [],
   "source": [
    "#arima model gets error that the data contains infiniite values, so lets drop it.\n",
    "merged_data.replace([np.inf, -np.inf], np.nan, inplace=True)\n",
    "merged_data.dropna(inplace=True)\n",
    "#np.any(np.isnan(train_data)),np.all(np.isfinite(train_data))"
   ]
  },
  {
   "cell_type": "code",
   "execution_count": 39,
   "metadata": {
    "id": "5cZB5Mm7AmLi"
   },
   "outputs": [],
   "source": [
    "#splitting train and test data\n",
    "#merged_data.shape----->(6865, 26)\n",
    "\n",
    "train_size=int(len(merged_data)*0.65)\n",
    "test_size=len(merged_data)-train_size\n",
    "\n",
    "train_data=merged_data[:train_size]\n",
    "test_data=merged_data[train_size:]"
   ]
  },
  {
   "cell_type": "code",
   "execution_count": 40,
   "metadata": {
    "colab": {
     "base_uri": "https://localhost:8080/"
    },
    "id": "7hpeMa87FUT8",
    "outputId": "8c448f33-156f-46dc-b912-2e2f8727115f"
   },
   "outputs": [
    {
     "data": {
      "text/plain": [
       "Open                  0\n",
       "High                  0\n",
       "Low                   0\n",
       "Close                 0\n",
       "Adj Close             0\n",
       "Volume                0\n",
       "Openrolling_mean_3    0\n",
       "Openrolling_mean_5    0\n",
       "Highrolling_mean_3    0\n",
       "Highrolling_mean_5    0\n",
       "Lowrolling_mean_3     0\n",
       "Lowrolling_mean_5     0\n",
       "Openrolling_stnd_3    0\n",
       "Openrolling_stnd_5    0\n",
       "Highrolling_stnd_3    0\n",
       "Highrolling_stnd_5    0\n",
       "Lowrolling_stnd_3     0\n",
       "Lowrolling_stnd_5     0\n",
       "compound              0\n",
       "negative              0\n",
       "positive              0\n",
       "neutral               0\n",
       "Diff_openclose        0\n",
       "Diff_highlow          0\n",
       "Ratio_highlow         0\n",
       "Ratio_closeopen       0\n",
       "dtype: int64"
      ]
     },
     "execution_count": 40,
     "metadata": {},
     "output_type": "execute_result"
    }
   ],
   "source": [
    "merged_data.isna().sum()"
   ]
  },
  {
   "cell_type": "code",
   "execution_count": 41,
   "metadata": {
    "id": "MhIgfWXkXIR1"
   },
   "outputs": [],
   "source": [
    "##PCA"
   ]
  },
  {
   "cell_type": "markdown",
   "metadata": {},
   "source": [
    "### ARIMA MODEL"
   ]
  },
  {
   "cell_type": "code",
   "execution_count": 42,
   "metadata": {
    "colab": {
     "base_uri": "https://localhost:8080/"
    },
    "id": "MQSyK4hu_OKH",
    "outputId": "098e2a53-fb2f-4ade-98da-8688fea93406"
   },
   "outputs": [
    {
     "name": "stdout",
     "output_type": "stream",
     "text": [
      "Performing stepwise search to minimize aic\n",
      " ARIMA(2,0,2)(0,0,0)[0] intercept   : AIC=20941.609, Time=3.52 sec\n",
      " ARIMA(0,0,0)(0,0,0)[0] intercept   : AIC=21018.936, Time=1.12 sec\n",
      " ARIMA(1,0,0)(0,0,0)[0] intercept   : AIC=20960.547, Time=6.20 sec\n",
      " ARIMA(0,0,1)(0,0,0)[0] intercept   : AIC=20988.588, Time=0.55 sec\n",
      " ARIMA(0,0,0)(0,0,0)[0]             : AIC=23796.794, Time=7.00 sec\n",
      " ARIMA(1,0,2)(0,0,0)[0] intercept   : AIC=20940.192, Time=2.89 sec\n",
      " ARIMA(0,0,2)(0,0,0)[0] intercept   : AIC=20872.344, Time=8.09 sec\n",
      " ARIMA(0,0,3)(0,0,0)[0] intercept   : AIC=20790.261, Time=11.63 sec\n",
      " ARIMA(1,0,3)(0,0,0)[0] intercept   : AIC=20808.872, Time=9.68 sec\n",
      " ARIMA(0,0,4)(0,0,0)[0] intercept   : AIC=20937.052, Time=2.67 sec\n",
      " ARIMA(1,0,4)(0,0,0)[0] intercept   : AIC=20830.980, Time=10.41 sec\n",
      " ARIMA(0,0,3)(0,0,0)[0]             : AIC=20817.325, Time=9.86 sec\n",
      "\n",
      "Best model:  ARIMA(0,0,3)(0,0,0)[0] intercept\n",
      "Total fit time: 74.736 seconds\n"
     ]
    }
   ],
   "source": [
    "#apply auto_arima model on merged data\n",
    "arima_model=auto_arima(y=train_data['Close'],\n",
    "                       exogenous=train_data[ind_features],\n",
    "                       trace=True)"
   ]
  },
  {
   "cell_type": "code",
   "execution_count": 43,
   "metadata": {
    "colab": {
     "base_uri": "https://localhost:8080/"
    },
    "id": "tPYDMtq8DIUA",
    "outputId": "03973582-07e2-48e6-eb77-b2a112d74fbd"
   },
   "outputs": [
    {
     "data": {
      "text/plain": [
       "ARIMA(order=(0, 0, 3), scoring_args={}, suppress_warnings=True)"
      ]
     },
     "execution_count": 43,
     "metadata": {},
     "output_type": "execute_result"
    }
   ],
   "source": [
    "arima_model.fit(train_data['Close'],train_data[ind_features])"
   ]
  },
  {
   "cell_type": "code",
   "execution_count": 44,
   "metadata": {
    "colab": {
     "base_uri": "https://localhost:8080/"
    },
    "id": "47nPm2B6Gn5q",
    "outputId": "8125dd25-b454-40d4-8a61-7606d67bde61"
   },
   "outputs": [],
   "source": [
    "forecast=arima_model.predict(n_periods=len(test_data),exogenous=test_data[ind_features])"
   ]
  },
  {
   "cell_type": "code",
   "execution_count": 45,
   "metadata": {
    "id": "hdDiGQICGu1x"
   },
   "outputs": [],
   "source": [
    "test_data['Forecast_ARIMA']=forecast"
   ]
  },
  {
   "cell_type": "markdown",
   "metadata": {},
   "source": [
    "### PERFORMANCE METRICS"
   ]
  },
  {
   "cell_type": "code",
   "execution_count": 55,
   "metadata": {
    "colab": {
     "base_uri": "https://localhost:8080/",
     "height": 587
    },
    "id": "6TzyVBotG5HP",
    "outputId": "0d7d6868-4b50-4f05-a420-fd6cf04696c2"
   },
   "outputs": [
    {
     "data": {
      "text/plain": [
       "<matplotlib.axes._subplots.AxesSubplot at 0x1b6bd3910c8>"
      ]
     },
     "execution_count": 55,
     "metadata": {},
     "output_type": "execute_result"
    },
    {
     "data": {
      "image/png": "[encoded data removed]",
      "text/plain": [
       "<Figure size 2160x1080 with 1 Axes>"
      ]
     },
     "metadata": {
      "needs_background": "light"
     },
     "output_type": "display_data"
    }
   ],
   "source": [
    "test_data[['Forecast_ARIMA','Close']].plot(figsize=(30,15),title='STOCK FORECAST',ylabel='PRICE')"
   ]
  },
  {
   "cell_type": "code",
   "execution_count": 56,
   "metadata": {
    "colab": {
     "base_uri": "https://localhost:8080/"
    },
    "id": "-XZV8jA7G7nh",
    "outputId": "06b5b903-509f-4679-8ee2-cc2a9f2519f5"
   },
   "outputs": [
    {
     "name": "stdout",
     "output_type": "stream",
     "text": [
      "MAE:38.44484152534055\n",
      "RMSE:58.220616179801276\n"
     ]
    }
   ],
   "source": [
    "MAE=mean_absolute_error(test_data['Close'],test_data['Forecast_ARIMA'])\n",
    "RMSE=np.sqrt(mean_squared_error(test_data['Close'],test_data['Forecast_ARIMA']))\n",
    "\n",
    "print('MAE:{}'.format(MAE))\n",
    "print('RMSE:{}'.format(RMSE))"
   ]
  },
  {
   "cell_type": "code",
   "execution_count": 48,
   "metadata": {
    "id": "lsb0QtQMcTF4"
   },
   "outputs": [],
   "source": [
    "#save model\n",
    "filename = 'model.pk1'\n",
    "pickle.dump(arima_model,open(filename,'wb'))\n"
   ]
  },
  {
   "cell_type": "code",
   "execution_count": 49,
   "metadata": {
    "id": "8tQ6WGCXuoCi"
   },
   "outputs": [],
   "source": [
    "#load model\n",
    "load_model = pickle.load(open(filename,'rb'))"
   ]
  },
  {
   "cell_type": "markdown",
   "metadata": {
    "id": "iJhjzYZYTkKx"
   },
   "source": [
    "#case1\n",
    "MAE:47.23519594976616\n",
    "RMSE:61.02465752730425"
   ]
  },
  {
   "cell_type": "markdown",
   "metadata": {
    "id": "F4DBA4fyU-18"
   },
   "source": [
    "###Case2 when 2 new features included\n",
    "MAE:32.21080375994192\n",
    "RMSE:41.662926944378746"
   ]
  },
  {
   "cell_type": "markdown",
   "metadata": {
    "id": "uSkvj3dyZk9E"
   },
   "source": [
    "###Case3 when 4 news features used\n",
    "MAE:31.930405840842123\n",
    "RMSE:41.67104591746529"
   ]
  },
  {
   "cell_type": "code",
   "execution_count": null,
   "metadata": {},
   "outputs": [],
   "source": []
  }
 ],
 "metadata": {
  "accelerator": "GPU",
  "colab": {
   "collapsed_sections": [],
   "name": "sentiment stock_pred.ipynb",
   "provenance": []
  },
  "kernelspec": {
   "display_name": "Python 3",
   "language": "python",
   "name": "python3"
  },
  "language_info": {
   "codemirror_mode": {
    "name": "ipython",
    "version": 3
   },
   "file_extension": ".py",
   "mimetype": "text/x-python",
   "name": "python",
   "nbconvert_exporter": "python",
   "pygments_lexer": "ipython3",
   "version": "3.7.4"
  }
 },
 "nbformat": 4,
 "nbformat_minor": 1
}

{
 "cells": [
  {
   "cell_type": "code",
   "execution_count": 1,
   "metadata": {
    "colab": {
     "base_uri": "https://localhost:8080/",
     "height": 306
    },
    "id": "ccjiJlN9oeNN",
    "outputId": "60241494-863d-4a7f-e78c-1872f4a1b018"
   },
   "outputs": [],
   "source": [
    "#!pip install pmdarima\n",
    "#!pip install numpy --upgrade "
   ]
  },
  {
   "cell_type": "code",
   "execution_count": 2,
   "metadata": {},
   "outputs": [],
   "source": [
    "#!pip install TextBlob"
   ]
  },
  {
   "cell_type": "markdown",
   "metadata": {},
   "source": [
    "### Imports"
   ]
  },
  {
   "cell_type": "code",
   "execution_count": 315,
   "metadata": {
    "colab": {
     "base_uri": "https://localhost:8080/"
    },
    "id": "LOGxBAIUJPb6",
    "outputId": "d8107e8c-66c0-4725-d294-5bb93ccf26e3"
   },
   "outputs": [
    {
     "name": "stdout",
     "output_type": "stream",
     "text": [
      "...................done\n"
     ]
    },
    {
     "name": "stderr",
     "output_type": "stream",
     "text": [
      "[nltk_data] Downloading package vader_lexicon to\n",
      "[nltk_data]     C:\\Users\\saket\\AppData\\Roaming\\nltk_data...\n",
      "[nltk_data]   Package vader_lexicon is already up-to-date!\n"
     ]
    }
   ],
   "source": [
    "import numpy as np\n",
    "import pandas as pd\n",
    "import seaborn as sns\n",
    "import matplotlib.pyplot as plt\n",
    "\n",
    "import warnings\n",
    "warnings.filterwarnings('ignore')\n",
    "\n",
    "import regex as re\n",
    "#sentiment analyser imports\n",
    "from textblob import TextBlob\n",
    "import nltk\n",
    "nltk.download('vader_lexicon')\n",
    "from nltk.sentiment.vader import SentimentIntensityAnalyzer\n",
    "\n",
    "\n",
    "#auto_arima \n",
    "\n",
    "from pmdarima import auto_arima\n",
    "\n",
    "#accuracy check imports\n",
    "from sklearn.metrics import mean_absolute_error,mean_squared_error\n",
    "from sklearn.feature_selection import mutual_info_regression\n",
    "#saving model\n",
    "import pickle\n",
    "\n",
    "#LSTM\n",
    "from keras.models import Sequential\n",
    "from keras.layers import Dense, LSTM, Dropout, Dense, Activation,GRU\n",
    "from sklearn.preprocessing import MinMaxScaler\n",
    "from tensorflow.keras.callbacks import EarlyStopping\n",
    "print('...................done')\n"
   ]
  },
  {
   "cell_type": "markdown",
   "metadata": {},
   "source": [
    "### sentiment dataset"
   ]
  },
  {
   "cell_type": "code",
   "execution_count": 4,
   "metadata": {},
   "outputs": [],
   "source": [
    "news=pd.read_csv('C:/Users/saket/Desktop/PROJECTS/datasets/news.csv')                    "
   ]
  },
  {
   "cell_type": "code",
   "execution_count": 5,
   "metadata": {},
   "outputs": [
    {
     "data": {
      "text/plain": [
       "(3424067, 3)"
      ]
     },
     "execution_count": 5,
     "metadata": {},
     "output_type": "execute_result"
    }
   ],
   "source": [
    "news.shape"
   ]
  },
  {
   "cell_type": "code",
   "execution_count": 6,
   "metadata": {},
   "outputs": [
    {
     "data": {
      "text/plain": [
       "publish_date          int64\n",
       "headline_category    object\n",
       "headline_text        object\n",
       "dtype: object"
      ]
     },
     "execution_count": 6,
     "metadata": {},
     "output_type": "execute_result"
    }
   ],
   "source": [
    "news.dtypes"
   ]
  },
  {
   "cell_type": "code",
   "execution_count": 7,
   "metadata": {},
   "outputs": [
    {
     "data": {
      "text/html": [
       "<div>\n",
       "<style scoped>\n",
       "    .dataframe tbody tr th:only-of-type {\n",
       "        vertical-align: middle;\n",
       "    }\n",
       "\n",
       "    .dataframe tbody tr th {\n",
       "        vertical-align: top;\n",
       "    }\n",
       "\n",
       "    .dataframe thead th {\n",
       "        text-align: right;\n",
       "    }\n",
       "</style>\n",
       "<table border=\"1\" class=\"dataframe\">\n",
       "  <thead>\n",
       "    <tr style=\"text-align: right;\">\n",
       "      <th></th>\n",
       "      <th>index</th>\n",
       "      <th>publish_date</th>\n",
       "      <th>headline_category</th>\n",
       "      <th>headline_text</th>\n",
       "    </tr>\n",
       "  </thead>\n",
       "  <tbody>\n",
       "    <tr>\n",
       "      <th>0</th>\n",
       "      <td>507527</td>\n",
       "      <td>20070917</td>\n",
       "      <td>delhi-times</td>\n",
       "      <td>Men are painting it pink</td>\n",
       "    </tr>\n",
       "    <tr>\n",
       "      <th>1</th>\n",
       "      <td>507528</td>\n",
       "      <td>20070917</td>\n",
       "      <td>delhi-times</td>\n",
       "      <td>Bipasha's twins!</td>\n",
       "    </tr>\n",
       "    <tr>\n",
       "      <th>2</th>\n",
       "      <td>507529</td>\n",
       "      <td>20070917</td>\n",
       "      <td>delhi-times</td>\n",
       "      <td>Come; be a part of the good times</td>\n",
       "    </tr>\n",
       "    <tr>\n",
       "      <th>3</th>\n",
       "      <td>507530</td>\n",
       "      <td>20070917</td>\n",
       "      <td>delhi-times</td>\n",
       "      <td>Style mantras of the art world</td>\n",
       "    </tr>\n",
       "    <tr>\n",
       "      <th>4</th>\n",
       "      <td>507531</td>\n",
       "      <td>20070917</td>\n",
       "      <td>delhi-times</td>\n",
       "      <td>A lesson in sensuality</td>\n",
       "    </tr>\n",
       "    <tr>\n",
       "      <th>...</th>\n",
       "      <td>...</td>\n",
       "      <td>...</td>\n",
       "      <td>...</td>\n",
       "      <td>...</td>\n",
       "    </tr>\n",
       "    <tr>\n",
       "      <th>2916535</th>\n",
       "      <td>3424062</td>\n",
       "      <td>20201231</td>\n",
       "      <td>city.jodhpur</td>\n",
       "      <td>Covid-19: Despite dip in cases; Rajasthan amon...</td>\n",
       "    </tr>\n",
       "    <tr>\n",
       "      <th>2916536</th>\n",
       "      <td>3424063</td>\n",
       "      <td>20201231</td>\n",
       "      <td>city.udaipur</td>\n",
       "      <td>Covid-19: Despite dip in cases; Rajasthan amon...</td>\n",
       "    </tr>\n",
       "    <tr>\n",
       "      <th>2916537</th>\n",
       "      <td>3424064</td>\n",
       "      <td>20201231</td>\n",
       "      <td>city.ajmer</td>\n",
       "      <td>Covid-19: Despite dip in cases; Rajasthan amon...</td>\n",
       "    </tr>\n",
       "    <tr>\n",
       "      <th>2916538</th>\n",
       "      <td>3424065</td>\n",
       "      <td>20201231</td>\n",
       "      <td>removed</td>\n",
       "      <td>Govt extends deadline for use of FASTag till F...</td>\n",
       "    </tr>\n",
       "    <tr>\n",
       "      <th>2916539</th>\n",
       "      <td>3424066</td>\n",
       "      <td>20201231</td>\n",
       "      <td>entertainment.bengali.movies.news</td>\n",
       "      <td>Celebs plan to party safely and responsibly on...</td>\n",
       "    </tr>\n",
       "  </tbody>\n",
       "</table>\n",
       "<p>2916540 rows × 4 columns</p>\n",
       "</div>"
      ],
      "text/plain": [
       "           index  publish_date                  headline_category  \\\n",
       "0         507527      20070917                        delhi-times   \n",
       "1         507528      20070917                        delhi-times   \n",
       "2         507529      20070917                        delhi-times   \n",
       "3         507530      20070917                        delhi-times   \n",
       "4         507531      20070917                        delhi-times   \n",
       "...          ...           ...                                ...   \n",
       "2916535  3424062      20201231                       city.jodhpur   \n",
       "2916536  3424063      20201231                       city.udaipur   \n",
       "2916537  3424064      20201231                         city.ajmer   \n",
       "2916538  3424065      20201231                            removed   \n",
       "2916539  3424066      20201231  entertainment.bengali.movies.news   \n",
       "\n",
       "                                             headline_text  \n",
       "0                                 Men are painting it pink  \n",
       "1                                         Bipasha's twins!  \n",
       "2                        Come; be a part of the good times  \n",
       "3                           Style mantras of the art world  \n",
       "4                                   A lesson in sensuality  \n",
       "...                                                    ...  \n",
       "2916535  Covid-19: Despite dip in cases; Rajasthan amon...  \n",
       "2916536  Covid-19: Despite dip in cases; Rajasthan amon...  \n",
       "2916537  Covid-19: Despite dip in cases; Rajasthan amon...  \n",
       "2916538  Govt extends deadline for use of FASTag till F...  \n",
       "2916539  Celebs plan to party safely and responsibly on...  \n",
       "\n",
       "[2916540 rows x 4 columns]"
      ]
     },
     "execution_count": 7,
     "metadata": {},
     "output_type": "execute_result"
    }
   ],
   "source": [
    "news=news.loc[news['publish_date'] >= 20070917]\n",
    "news.reset_index()"
   ]
  },
  {
   "cell_type": "code",
   "execution_count": 8,
   "metadata": {},
   "outputs": [
    {
     "data": {
      "text/plain": [
       "(2916540, 3)"
      ]
     },
     "execution_count": 8,
     "metadata": {},
     "output_type": "execute_result"
    }
   ],
   "source": [
    "news.shape"
   ]
  },
  {
   "cell_type": "code",
   "execution_count": 9,
   "metadata": {},
   "outputs": [
    {
     "data": {
      "text/plain": [
       "publish_date          int64\n",
       "headline_category    object\n",
       "headline_text        object\n",
       "dtype: object"
      ]
     },
     "execution_count": 9,
     "metadata": {},
     "output_type": "execute_result"
    }
   ],
   "source": [
    "news['headline_text']=news['headline_text'].astype('str')\n",
    "news['headline_text']=news['headline_text'].str.lower()\n",
    "news.dtypes"
   ]
  },
  {
   "cell_type": "code",
   "execution_count": 10,
   "metadata": {},
   "outputs": [],
   "source": [
    "#remove unwanted columns\n",
    "def col_remover(df,col):\n",
    "  df.drop(col,axis=1,inplace=True)\n",
    "col_remover(news,'headline_category')"
   ]
  },
  {
   "cell_type": "code",
   "execution_count": 11,
   "metadata": {},
   "outputs": [],
   "source": [
    "#preprocess date column\n",
    "news['publish_date']=news['publish_date'].astype('str')\n",
    "news['publish_date']=news['publish_date'].apply(lambda x: x[0:4]+'-'+x[4:6]+'-'+x[6:8])"
   ]
  },
  {
   "cell_type": "code",
   "execution_count": 12,
   "metadata": {},
   "outputs": [],
   "source": [
    "news=news.groupby(['publish_date'])['headline_text'].apply(lambda x:','.join(x)).reset_index()"
   ]
  },
  {
   "cell_type": "code",
   "execution_count": 13,
   "metadata": {},
   "outputs": [
    {
     "data": {
      "text/html": [
       "<div>\n",
       "<style scoped>\n",
       "    .dataframe tbody tr th:only-of-type {\n",
       "        vertical-align: middle;\n",
       "    }\n",
       "\n",
       "    .dataframe tbody tr th {\n",
       "        vertical-align: top;\n",
       "    }\n",
       "\n",
       "    .dataframe thead th {\n",
       "        text-align: right;\n",
       "    }\n",
       "</style>\n",
       "<table border=\"1\" class=\"dataframe\">\n",
       "  <thead>\n",
       "    <tr style=\"text-align: right;\">\n",
       "      <th></th>\n",
       "      <th>publish_date</th>\n",
       "      <th>headline_text</th>\n",
       "    </tr>\n",
       "  </thead>\n",
       "  <tbody>\n",
       "    <tr>\n",
       "      <th>0</th>\n",
       "      <td>2007-09-17</td>\n",
       "      <td>men are painting it pink,bipasha's twins!,come...</td>\n",
       "    </tr>\n",
       "    <tr>\n",
       "      <th>1</th>\n",
       "      <td>2007-09-18</td>\n",
       "      <td>reel bonhomie,it's all about having fun togeth...</td>\n",
       "    </tr>\n",
       "    <tr>\n",
       "      <th>2</th>\n",
       "      <td>2007-09-19</td>\n",
       "      <td>dressed to thrill? not reely,i am a very posit...</td>\n",
       "    </tr>\n",
       "    <tr>\n",
       "      <th>3</th>\n",
       "      <td>2007-09-20</td>\n",
       "      <td>hey juniors! are you ready to rock?,saawariya'...</td>\n",
       "    </tr>\n",
       "    <tr>\n",
       "      <th>4</th>\n",
       "      <td>2007-09-21</td>\n",
       "      <td>yoga for face,priyanka chopra tears abs muscle...</td>\n",
       "    </tr>\n",
       "  </tbody>\n",
       "</table>\n",
       "</div>"
      ],
      "text/plain": [
       "  publish_date                                      headline_text\n",
       "0   2007-09-17  men are painting it pink,bipasha's twins!,come...\n",
       "1   2007-09-18  reel bonhomie,it's all about having fun togeth...\n",
       "2   2007-09-19  dressed to thrill? not reely,i am a very posit...\n",
       "3   2007-09-20  hey juniors! are you ready to rock?,saawariya'...\n",
       "4   2007-09-21  yoga for face,priyanka chopra tears abs muscle..."
      ]
     },
     "execution_count": 13,
     "metadata": {},
     "output_type": "execute_result"
    }
   ],
   "source": [
    "news.head()"
   ]
  },
  {
   "cell_type": "code",
   "execution_count": 14,
   "metadata": {},
   "outputs": [],
   "source": [
    "news.set_index('publish_date',drop=True,inplace=True)"
   ]
  },
  {
   "cell_type": "code",
   "execution_count": 15,
   "metadata": {},
   "outputs": [
    {
     "data": {
      "text/html": [
       "<div>\n",
       "<style scoped>\n",
       "    .dataframe tbody tr th:only-of-type {\n",
       "        vertical-align: middle;\n",
       "    }\n",
       "\n",
       "    .dataframe tbody tr th {\n",
       "        vertical-align: top;\n",
       "    }\n",
       "\n",
       "    .dataframe thead th {\n",
       "        text-align: right;\n",
       "    }\n",
       "</style>\n",
       "<table border=\"1\" class=\"dataframe\">\n",
       "  <thead>\n",
       "    <tr style=\"text-align: right;\">\n",
       "      <th></th>\n",
       "      <th>headline_text</th>\n",
       "    </tr>\n",
       "    <tr>\n",
       "      <th>publish_date</th>\n",
       "      <th></th>\n",
       "    </tr>\n",
       "  </thead>\n",
       "  <tbody>\n",
       "    <tr>\n",
       "      <th>2007-09-17</th>\n",
       "      <td>men are painting it pink,bipasha's twins!,come...</td>\n",
       "    </tr>\n",
       "    <tr>\n",
       "      <th>2007-09-18</th>\n",
       "      <td>reel bonhomie,it's all about having fun togeth...</td>\n",
       "    </tr>\n",
       "    <tr>\n",
       "      <th>2007-09-19</th>\n",
       "      <td>dressed to thrill? not reely,i am a very posit...</td>\n",
       "    </tr>\n",
       "    <tr>\n",
       "      <th>2007-09-20</th>\n",
       "      <td>hey juniors! are you ready to rock?,saawariya'...</td>\n",
       "    </tr>\n",
       "    <tr>\n",
       "      <th>2007-09-21</th>\n",
       "      <td>yoga for face,priyanka chopra tears abs muscle...</td>\n",
       "    </tr>\n",
       "  </tbody>\n",
       "</table>\n",
       "</div>"
      ],
      "text/plain": [
       "                                                  headline_text\n",
       "publish_date                                                   \n",
       "2007-09-17    men are painting it pink,bipasha's twins!,come...\n",
       "2007-09-18    reel bonhomie,it's all about having fun togeth...\n",
       "2007-09-19    dressed to thrill? not reely,i am a very posit...\n",
       "2007-09-20    hey juniors! are you ready to rock?,saawariya'...\n",
       "2007-09-21    yoga for face,priyanka chopra tears abs muscle..."
      ]
     },
     "execution_count": 15,
     "metadata": {},
     "output_type": "execute_result"
    }
   ],
   "source": [
    "news.head()"
   ]
  },
  {
   "cell_type": "markdown",
   "metadata": {},
   "source": [
    "### sentiment analysis"
   ]
  },
  {
   "cell_type": "code",
   "execution_count": 16,
   "metadata": {},
   "outputs": [],
   "source": [
    "#apply vader analyzer on entire news dataset\n",
    "sid=SentimentIntensityAnalyzer()\n",
    "news['scores']=news['headline_text'].apply(lambda x:sid.polarity_scores(x))"
   ]
  },
  {
   "cell_type": "code",
   "execution_count": 17,
   "metadata": {},
   "outputs": [
    {
     "data": {
      "text/html": [
       "<div>\n",
       "<style scoped>\n",
       "    .dataframe tbody tr th:only-of-type {\n",
       "        vertical-align: middle;\n",
       "    }\n",
       "\n",
       "    .dataframe tbody tr th {\n",
       "        vertical-align: top;\n",
       "    }\n",
       "\n",
       "    .dataframe thead th {\n",
       "        text-align: right;\n",
       "    }\n",
       "</style>\n",
       "<table border=\"1\" class=\"dataframe\">\n",
       "  <thead>\n",
       "    <tr style=\"text-align: right;\">\n",
       "      <th></th>\n",
       "      <th>headline_text</th>\n",
       "      <th>scores</th>\n",
       "      <th>compound</th>\n",
       "      <th>negative</th>\n",
       "      <th>positive</th>\n",
       "      <th>neutral</th>\n",
       "    </tr>\n",
       "    <tr>\n",
       "      <th>publish_date</th>\n",
       "      <th></th>\n",
       "      <th></th>\n",
       "      <th></th>\n",
       "      <th></th>\n",
       "      <th></th>\n",
       "      <th></th>\n",
       "    </tr>\n",
       "  </thead>\n",
       "  <tbody>\n",
       "    <tr>\n",
       "      <th>2007-09-17</th>\n",
       "      <td>men are painting it pink,bipasha's twins!,come...</td>\n",
       "      <td>{'neg': 0.107, 'neu': 0.822, 'pos': 0.07, 'com...</td>\n",
       "      <td>-0.9964</td>\n",
       "      <td>0.107</td>\n",
       "      <td>0.070</td>\n",
       "      <td>0.822</td>\n",
       "    </tr>\n",
       "    <tr>\n",
       "      <th>2007-09-18</th>\n",
       "      <td>reel bonhomie,it's all about having fun togeth...</td>\n",
       "      <td>{'neg': 0.127, 'neu': 0.794, 'pos': 0.079, 'co...</td>\n",
       "      <td>-0.9977</td>\n",
       "      <td>0.127</td>\n",
       "      <td>0.079</td>\n",
       "      <td>0.794</td>\n",
       "    </tr>\n",
       "    <tr>\n",
       "      <th>2007-09-19</th>\n",
       "      <td>dressed to thrill? not reely,i am a very posit...</td>\n",
       "      <td>{'neg': 0.096, 'neu': 0.831, 'pos': 0.073, 'co...</td>\n",
       "      <td>-0.9892</td>\n",
       "      <td>0.096</td>\n",
       "      <td>0.073</td>\n",
       "      <td>0.831</td>\n",
       "    </tr>\n",
       "    <tr>\n",
       "      <th>2007-09-20</th>\n",
       "      <td>hey juniors! are you ready to rock?,saawariya'...</td>\n",
       "      <td>{'neg': 0.115, 'neu': 0.802, 'pos': 0.084, 'co...</td>\n",
       "      <td>-0.9926</td>\n",
       "      <td>0.115</td>\n",
       "      <td>0.084</td>\n",
       "      <td>0.802</td>\n",
       "    </tr>\n",
       "    <tr>\n",
       "      <th>2007-09-21</th>\n",
       "      <td>yoga for face,priyanka chopra tears abs muscle...</td>\n",
       "      <td>{'neg': 0.14, 'neu': 0.803, 'pos': 0.057, 'com...</td>\n",
       "      <td>-0.9989</td>\n",
       "      <td>0.140</td>\n",
       "      <td>0.057</td>\n",
       "      <td>0.803</td>\n",
       "    </tr>\n",
       "  </tbody>\n",
       "</table>\n",
       "</div>"
      ],
      "text/plain": [
       "                                                  headline_text  \\\n",
       "publish_date                                                      \n",
       "2007-09-17    men are painting it pink,bipasha's twins!,come...   \n",
       "2007-09-18    reel bonhomie,it's all about having fun togeth...   \n",
       "2007-09-19    dressed to thrill? not reely,i am a very posit...   \n",
       "2007-09-20    hey juniors! are you ready to rock?,saawariya'...   \n",
       "2007-09-21    yoga for face,priyanka chopra tears abs muscle...   \n",
       "\n",
       "                                                         scores  compound  \\\n",
       "publish_date                                                                \n",
       "2007-09-17    {'neg': 0.107, 'neu': 0.822, 'pos': 0.07, 'com...   -0.9964   \n",
       "2007-09-18    {'neg': 0.127, 'neu': 0.794, 'pos': 0.079, 'co...   -0.9977   \n",
       "2007-09-19    {'neg': 0.096, 'neu': 0.831, 'pos': 0.073, 'co...   -0.9892   \n",
       "2007-09-20    {'neg': 0.115, 'neu': 0.802, 'pos': 0.084, 'co...   -0.9926   \n",
       "2007-09-21    {'neg': 0.14, 'neu': 0.803, 'pos': 0.057, 'com...   -0.9989   \n",
       "\n",
       "              negative  positive  neutral  \n",
       "publish_date                               \n",
       "2007-09-17       0.107     0.070    0.822  \n",
       "2007-09-18       0.127     0.079    0.794  \n",
       "2007-09-19       0.096     0.073    0.831  \n",
       "2007-09-20       0.115     0.084    0.802  \n",
       "2007-09-21       0.140     0.057    0.803  "
      ]
     },
     "execution_count": 17,
     "metadata": {},
     "output_type": "execute_result"
    }
   ],
   "source": [
    "#create separate columns for scores\n",
    "news['compound']=news['scores'].apply(lambda x:x['compound'])\n",
    "news['negative']=news['scores'].apply(lambda x:x['neg'])\n",
    "news['positive']=news['scores'].apply(lambda x:x['pos'])\n",
    "news['neutral']=news['scores'].apply(lambda x:x['neu'])\n",
    "news.head()"
   ]
  },
  {
   "cell_type": "code",
   "execution_count": 18,
   "metadata": {},
   "outputs": [],
   "source": [
    "col_remover(news,'headline_text')\n",
    "col_remover(news,'scores')\n"
   ]
  },
  {
   "cell_type": "code",
   "execution_count": 33,
   "metadata": {},
   "outputs": [
    {
     "data": {
      "text/plain": [
       "(4855, 4)"
      ]
     },
     "execution_count": 33,
     "metadata": {},
     "output_type": "execute_result"
    }
   ],
   "source": [
    "news.shape"
   ]
  },
  {
   "cell_type": "code",
   "execution_count": null,
   "metadata": {},
   "outputs": [],
   "source": []
  },
  {
   "cell_type": "markdown",
   "metadata": {},
   "source": [
    "### numerical analysis"
   ]
  },
  {
   "cell_type": "code",
   "execution_count": 19,
   "metadata": {},
   "outputs": [],
   "source": [
    "nifty_data=pd.read_csv('C:/Users/saket/Desktop/PROJECTS/datasets/nifty50.csv',index_col='Date')"
   ]
  },
  {
   "cell_type": "code",
   "execution_count": 34,
   "metadata": {},
   "outputs": [
    {
     "data": {
      "text/plain": [
       "(3315, 6)"
      ]
     },
     "execution_count": 34,
     "metadata": {},
     "output_type": "execute_result"
    }
   ],
   "source": [
    "nifty_data.shape"
   ]
  },
  {
   "cell_type": "code",
   "execution_count": 20,
   "metadata": {},
   "outputs": [
    {
     "data": {
      "text/html": [
       "<div>\n",
       "<style scoped>\n",
       "    .dataframe tbody tr th:only-of-type {\n",
       "        vertical-align: middle;\n",
       "    }\n",
       "\n",
       "    .dataframe tbody tr th {\n",
       "        vertical-align: top;\n",
       "    }\n",
       "\n",
       "    .dataframe thead th {\n",
       "        text-align: right;\n",
       "    }\n",
       "</style>\n",
       "<table border=\"1\" class=\"dataframe\">\n",
       "  <thead>\n",
       "    <tr style=\"text-align: right;\">\n",
       "      <th></th>\n",
       "      <th>Open</th>\n",
       "      <th>High</th>\n",
       "      <th>Low</th>\n",
       "      <th>Close</th>\n",
       "      <th>Adj Close</th>\n",
       "      <th>Volume</th>\n",
       "    </tr>\n",
       "    <tr>\n",
       "      <th>Date</th>\n",
       "      <th></th>\n",
       "      <th></th>\n",
       "      <th></th>\n",
       "      <th></th>\n",
       "      <th></th>\n",
       "      <th></th>\n",
       "    </tr>\n",
       "  </thead>\n",
       "  <tbody>\n",
       "    <tr>\n",
       "      <th>2007-09-17</th>\n",
       "      <td>4518.450195</td>\n",
       "      <td>4549.049805</td>\n",
       "      <td>4482.850098</td>\n",
       "      <td>4494.649902</td>\n",
       "      <td>4494.649902</td>\n",
       "      <td>0.0</td>\n",
       "    </tr>\n",
       "    <tr>\n",
       "      <th>2007-09-18</th>\n",
       "      <td>4494.100098</td>\n",
       "      <td>4551.799805</td>\n",
       "      <td>4481.549805</td>\n",
       "      <td>4546.200195</td>\n",
       "      <td>4546.200195</td>\n",
       "      <td>0.0</td>\n",
       "    </tr>\n",
       "    <tr>\n",
       "      <th>2007-09-19</th>\n",
       "      <td>4550.250000</td>\n",
       "      <td>4739.000000</td>\n",
       "      <td>4550.250000</td>\n",
       "      <td>4732.350098</td>\n",
       "      <td>4732.350098</td>\n",
       "      <td>0.0</td>\n",
       "    </tr>\n",
       "    <tr>\n",
       "      <th>2007-09-20</th>\n",
       "      <td>4734.850098</td>\n",
       "      <td>4760.850098</td>\n",
       "      <td>4721.149902</td>\n",
       "      <td>4747.549805</td>\n",
       "      <td>4747.549805</td>\n",
       "      <td>0.0</td>\n",
       "    </tr>\n",
       "    <tr>\n",
       "      <th>2007-09-21</th>\n",
       "      <td>4752.950195</td>\n",
       "      <td>4855.700195</td>\n",
       "      <td>4733.700195</td>\n",
       "      <td>4837.549805</td>\n",
       "      <td>4837.549805</td>\n",
       "      <td>0.0</td>\n",
       "    </tr>\n",
       "  </tbody>\n",
       "</table>\n",
       "</div>"
      ],
      "text/plain": [
       "                   Open         High          Low        Close    Adj Close  \\\n",
       "Date                                                                          \n",
       "2007-09-17  4518.450195  4549.049805  4482.850098  4494.649902  4494.649902   \n",
       "2007-09-18  4494.100098  4551.799805  4481.549805  4546.200195  4546.200195   \n",
       "2007-09-19  4550.250000  4739.000000  4550.250000  4732.350098  4732.350098   \n",
       "2007-09-20  4734.850098  4760.850098  4721.149902  4747.549805  4747.549805   \n",
       "2007-09-21  4752.950195  4855.700195  4733.700195  4837.549805  4837.549805   \n",
       "\n",
       "            Volume  \n",
       "Date                \n",
       "2007-09-17     0.0  \n",
       "2007-09-18     0.0  \n",
       "2007-09-19     0.0  \n",
       "2007-09-20     0.0  \n",
       "2007-09-21     0.0  "
      ]
     },
     "execution_count": 20,
     "metadata": {},
     "output_type": "execute_result"
    }
   ],
   "source": [
    "nifty_data.head()"
   ]
  },
  {
   "cell_type": "code",
   "execution_count": 21,
   "metadata": {},
   "outputs": [
    {
     "data": {
      "text/plain": [
       "Open         35\n",
       "High         35\n",
       "Low          35\n",
       "Close        35\n",
       "Adj Close    35\n",
       "Volume       35\n",
       "dtype: int64"
      ]
     },
     "execution_count": 21,
     "metadata": {},
     "output_type": "execute_result"
    }
   ],
   "source": [
    "nifty_data.isnull().sum()"
   ]
  },
  {
   "cell_type": "code",
   "execution_count": 22,
   "metadata": {},
   "outputs": [],
   "source": [
    "#drop missing value rows\n",
    "nifty_data.dropna(axis='rows',inplace=True)"
   ]
  },
  {
   "cell_type": "code",
   "execution_count": 23,
   "metadata": {},
   "outputs": [
    {
     "data": {
      "text/plain": [
       "<matplotlib.axes._subplots.AxesSubplot at 0x15d207d8f88>"
      ]
     },
     "execution_count": 23,
     "metadata": {},
     "output_type": "execute_result"
    },
    {
     "data": {
      "image/png": "[encoded data removed]",
      "text/plain": [
       "<Figure size 864x432 with 1 Axes>"
      ]
     },
     "metadata": {
      "needs_background": "light"
     },
     "output_type": "display_data"
    }
   ],
   "source": [
    "nifty_data['Close'].plot(figsize=(12,6),title='Nifty50 Close Prices')"
   ]
  },
  {
   "cell_type": "markdown",
   "metadata": {},
   "source": [
    "### ARIMA on nifty"
   ]
  },
  {
   "cell_type": "code",
   "execution_count": 82,
   "metadata": {},
   "outputs": [
    {
     "data": {
      "text/html": [
       "<div>\n",
       "<style scoped>\n",
       "    .dataframe tbody tr th:only-of-type {\n",
       "        vertical-align: middle;\n",
       "    }\n",
       "\n",
       "    .dataframe tbody tr th {\n",
       "        vertical-align: top;\n",
       "    }\n",
       "\n",
       "    .dataframe thead th {\n",
       "        text-align: right;\n",
       "    }\n",
       "</style>\n",
       "<table border=\"1\" class=\"dataframe\">\n",
       "  <thead>\n",
       "    <tr style=\"text-align: right;\">\n",
       "      <th></th>\n",
       "      <th>Open</th>\n",
       "      <th>High</th>\n",
       "      <th>Low</th>\n",
       "      <th>Close</th>\n",
       "      <th>Adj Close</th>\n",
       "      <th>Volume</th>\n",
       "      <th>Openrolling_mean_3</th>\n",
       "      <th>Openrolling_mean_5</th>\n",
       "      <th>Highrolling_mean_3</th>\n",
       "      <th>Highrolling_mean_5</th>\n",
       "      <th>Lowrolling_mean_3</th>\n",
       "      <th>Lowrolling_mean_5</th>\n",
       "      <th>Openrolling_stnd_3</th>\n",
       "      <th>Openrolling_stnd_5</th>\n",
       "      <th>Highrolling_stnd_3</th>\n",
       "      <th>Highrolling_stnd_5</th>\n",
       "      <th>Lowrolling_stnd_3</th>\n",
       "      <th>Lowrolling_stnd_5</th>\n",
       "    </tr>\n",
       "    <tr>\n",
       "      <th>Date</th>\n",
       "      <th></th>\n",
       "      <th></th>\n",
       "      <th></th>\n",
       "      <th></th>\n",
       "      <th></th>\n",
       "      <th></th>\n",
       "      <th></th>\n",
       "      <th></th>\n",
       "      <th></th>\n",
       "      <th></th>\n",
       "      <th></th>\n",
       "      <th></th>\n",
       "      <th></th>\n",
       "      <th></th>\n",
       "      <th></th>\n",
       "      <th></th>\n",
       "      <th></th>\n",
       "      <th></th>\n",
       "    </tr>\n",
       "  </thead>\n",
       "  <tbody>\n",
       "    <tr>\n",
       "      <th>2007-09-17</th>\n",
       "      <td>4518.450195</td>\n",
       "      <td>4549.049805</td>\n",
       "      <td>4482.850098</td>\n",
       "      <td>4494.649902</td>\n",
       "      <td>4494.649902</td>\n",
       "      <td>0.0</td>\n",
       "      <td>NaN</td>\n",
       "      <td>NaN</td>\n",
       "      <td>NaN</td>\n",
       "      <td>NaN</td>\n",
       "      <td>NaN</td>\n",
       "      <td>NaN</td>\n",
       "      <td>NaN</td>\n",
       "      <td>NaN</td>\n",
       "      <td>NaN</td>\n",
       "      <td>NaN</td>\n",
       "      <td>NaN</td>\n",
       "      <td>NaN</td>\n",
       "    </tr>\n",
       "    <tr>\n",
       "      <th>2007-09-18</th>\n",
       "      <td>4494.100098</td>\n",
       "      <td>4551.799805</td>\n",
       "      <td>4481.549805</td>\n",
       "      <td>4546.200195</td>\n",
       "      <td>4546.200195</td>\n",
       "      <td>0.0</td>\n",
       "      <td>NaN</td>\n",
       "      <td>NaN</td>\n",
       "      <td>NaN</td>\n",
       "      <td>NaN</td>\n",
       "      <td>NaN</td>\n",
       "      <td>NaN</td>\n",
       "      <td>NaN</td>\n",
       "      <td>NaN</td>\n",
       "      <td>NaN</td>\n",
       "      <td>NaN</td>\n",
       "      <td>NaN</td>\n",
       "      <td>NaN</td>\n",
       "    </tr>\n",
       "    <tr>\n",
       "      <th>2007-09-19</th>\n",
       "      <td>4550.250000</td>\n",
       "      <td>4739.000000</td>\n",
       "      <td>4550.250000</td>\n",
       "      <td>4732.350098</td>\n",
       "      <td>4732.350098</td>\n",
       "      <td>0.0</td>\n",
       "      <td>4520.933431</td>\n",
       "      <td>NaN</td>\n",
       "      <td>4613.283203</td>\n",
       "      <td>NaN</td>\n",
       "      <td>4504.883301</td>\n",
       "      <td>NaN</td>\n",
       "      <td>28.157197</td>\n",
       "      <td>NaN</td>\n",
       "      <td>108.882622</td>\n",
       "      <td>NaN</td>\n",
       "      <td>39.294093</td>\n",
       "      <td>NaN</td>\n",
       "    </tr>\n",
       "    <tr>\n",
       "      <th>2007-09-20</th>\n",
       "      <td>4734.850098</td>\n",
       "      <td>4760.850098</td>\n",
       "      <td>4721.149902</td>\n",
       "      <td>4747.549805</td>\n",
       "      <td>4747.549805</td>\n",
       "      <td>0.0</td>\n",
       "      <td>4593.066732</td>\n",
       "      <td>NaN</td>\n",
       "      <td>4683.883301</td>\n",
       "      <td>NaN</td>\n",
       "      <td>4584.316569</td>\n",
       "      <td>NaN</td>\n",
       "      <td>125.956719</td>\n",
       "      <td>NaN</td>\n",
       "      <td>114.908199</td>\n",
       "      <td>NaN</td>\n",
       "      <td>123.379293</td>\n",
       "      <td>NaN</td>\n",
       "    </tr>\n",
       "    <tr>\n",
       "      <th>2007-09-21</th>\n",
       "      <td>4752.950195</td>\n",
       "      <td>4855.700195</td>\n",
       "      <td>4733.700195</td>\n",
       "      <td>4837.549805</td>\n",
       "      <td>4837.549805</td>\n",
       "      <td>0.0</td>\n",
       "      <td>4679.350098</td>\n",
       "      <td>4610.120117</td>\n",
       "      <td>4785.183431</td>\n",
       "      <td>4691.279981</td>\n",
       "      <td>4668.366699</td>\n",
       "      <td>4593.9</td>\n",
       "      <td>112.169647</td>\n",
       "      <td>123.901624</td>\n",
       "      <td>62.038836</td>\n",
       "      <td>135.863305</td>\n",
       "      <td>102.484357</td>\n",
       "      <td>125.096564</td>\n",
       "    </tr>\n",
       "  </tbody>\n",
       "</table>\n",
       "</div>"
      ],
      "text/plain": [
       "                   Open         High          Low        Close    Adj Close  \\\n",
       "Date                                                                          \n",
       "2007-09-17  4518.450195  4549.049805  4482.850098  4494.649902  4494.649902   \n",
       "2007-09-18  4494.100098  4551.799805  4481.549805  4546.200195  4546.200195   \n",
       "2007-09-19  4550.250000  4739.000000  4550.250000  4732.350098  4732.350098   \n",
       "2007-09-20  4734.850098  4760.850098  4721.149902  4747.549805  4747.549805   \n",
       "2007-09-21  4752.950195  4855.700195  4733.700195  4837.549805  4837.549805   \n",
       "\n",
       "            Volume  Openrolling_mean_3  Openrolling_mean_5  \\\n",
       "Date                                                         \n",
       "2007-09-17     0.0                 NaN                 NaN   \n",
       "2007-09-18     0.0                 NaN                 NaN   \n",
       "2007-09-19     0.0         4520.933431                 NaN   \n",
       "2007-09-20     0.0         4593.066732                 NaN   \n",
       "2007-09-21     0.0         4679.350098         4610.120117   \n",
       "\n",
       "            Highrolling_mean_3  Highrolling_mean_5  Lowrolling_mean_3  \\\n",
       "Date                                                                    \n",
       "2007-09-17                 NaN                 NaN                NaN   \n",
       "2007-09-18                 NaN                 NaN                NaN   \n",
       "2007-09-19         4613.283203                 NaN        4504.883301   \n",
       "2007-09-20         4683.883301                 NaN        4584.316569   \n",
       "2007-09-21         4785.183431         4691.279981        4668.366699   \n",
       "\n",
       "            Lowrolling_mean_5  Openrolling_stnd_3  Openrolling_stnd_5  \\\n",
       "Date                                                                    \n",
       "2007-09-17                NaN                 NaN                 NaN   \n",
       "2007-09-18                NaN                 NaN                 NaN   \n",
       "2007-09-19                NaN           28.157197                 NaN   \n",
       "2007-09-20                NaN          125.956719                 NaN   \n",
       "2007-09-21             4593.9          112.169647          123.901624   \n",
       "\n",
       "            Highrolling_stnd_3  Highrolling_stnd_5  Lowrolling_stnd_3  \\\n",
       "Date                                                                    \n",
       "2007-09-17                 NaN                 NaN                NaN   \n",
       "2007-09-18                 NaN                 NaN                NaN   \n",
       "2007-09-19          108.882622                 NaN          39.294093   \n",
       "2007-09-20          114.908199                 NaN         123.379293   \n",
       "2007-09-21           62.038836          135.863305         102.484357   \n",
       "\n",
       "            Lowrolling_stnd_5  \n",
       "Date                           \n",
       "2007-09-17                NaN  \n",
       "2007-09-18                NaN  \n",
       "2007-09-19                NaN  \n",
       "2007-09-20                NaN  \n",
       "2007-09-21         125.096564  "
      ]
     },
     "execution_count": 82,
     "metadata": {},
     "output_type": "execute_result"
    }
   ],
   "source": [
    "features=['Open', 'High', 'Low']\n",
    "window1=3\n",
    "window2=5\n",
    "for feature in features:\n",
    "    nifty_data[feature+'rolling_mean_3']=nifty_data[feature].rolling(window=window1).mean()\n",
    "    nifty_data[feature+'rolling_mean_5']=nifty_data[feature].rolling(window=window2).mean()\n",
    "for feature in features:\n",
    "    nifty_data[feature+'rolling_stnd_3']=nifty_data[feature].rolling(window=window1).std()\n",
    "    nifty_data[feature+'rolling_stnd_5']=nifty_data[feature].rolling(window=window2).std()\n",
    "nifty_data.head()"
   ]
  },
  {
   "cell_type": "code",
   "execution_count": 83,
   "metadata": {},
   "outputs": [
    {
     "data": {
      "text/plain": [
       "Open                  0\n",
       "High                  0\n",
       "Low                   0\n",
       "Close                 0\n",
       "Adj Close             0\n",
       "Volume                0\n",
       "Openrolling_mean_3    0\n",
       "Openrolling_mean_5    0\n",
       "Highrolling_mean_3    0\n",
       "Highrolling_mean_5    0\n",
       "Lowrolling_mean_3     0\n",
       "Lowrolling_mean_5     0\n",
       "Openrolling_stnd_3    0\n",
       "Openrolling_stnd_5    0\n",
       "Highrolling_stnd_3    0\n",
       "Highrolling_stnd_5    0\n",
       "Lowrolling_stnd_3     0\n",
       "Lowrolling_stnd_5     0\n",
       "dtype: int64"
      ]
     },
     "execution_count": 83,
     "metadata": {},
     "output_type": "execute_result"
    }
   ],
   "source": [
    "nifty_data.dropna(inplace=True)\n",
    "nifty_data.isna().sum()"
   ]
  },
  {
   "cell_type": "code",
   "execution_count": 112,
   "metadata": {},
   "outputs": [],
   "source": [
    "train_size=int(len(nifty_data)*0.6)\n",
    "test_size=len(nifty_data)-train_size\n",
    "\n",
    "train_data=nifty_data[:train_size]\n",
    "test_data=nifty_data[train_size:]"
   ]
  },
  {
   "cell_type": "code",
   "execution_count": 113,
   "metadata": {},
   "outputs": [],
   "source": [
    "ind_features=['Openrolling_mean_3',\n",
    "'Openrolling_mean_5',    \n",
    "'Highrolling_mean_3',    \n",
    "'Highrolling_mean_5',    \n",
    "'Lowrolling_mean_3',     \n",
    "'Lowrolling_mean_5',     \n",
    "'Openrolling_stnd_3',    \n",
    "'Openrolling_stnd_5',    \n",
    "'Highrolling_stnd_3',    \n",
    "'Highrolling_stnd_5',    \n",
    "'Lowrolling_stnd_3',     \n",
    "'Lowrolling_stnd_5']"
   ]
  },
  {
   "cell_type": "code",
   "execution_count": 114,
   "metadata": {},
   "outputs": [
    {
     "name": "stdout",
     "output_type": "stream",
     "text": [
      "Performing stepwise search to minimize aic\n",
      " ARIMA(2,0,2)(0,0,0)[0] intercept   : AIC=20959.360, Time=8.91 sec\n",
      " ARIMA(0,0,0)(0,0,0)[0] intercept   : AIC=21361.611, Time=1.09 sec\n",
      " ARIMA(1,0,0)(0,0,0)[0] intercept   : AIC=20933.279, Time=6.51 sec\n",
      " ARIMA(0,0,1)(0,0,0)[0] intercept   : AIC=20937.148, Time=4.94 sec\n",
      " ARIMA(0,0,0)(0,0,0)[0]             : AIC=21427.823, Time=6.45 sec\n",
      " ARIMA(2,0,0)(0,0,0)[0] intercept   : AIC=20899.265, Time=5.53 sec\n",
      " ARIMA(3,0,0)(0,0,0)[0] intercept   : AIC=20929.268, Time=11.03 sec\n",
      " ARIMA(2,0,1)(0,0,0)[0] intercept   : AIC=20901.056, Time=6.31 sec\n",
      " ARIMA(1,0,1)(0,0,0)[0] intercept   : AIC=20923.532, Time=5.32 sec\n",
      " ARIMA(3,0,1)(0,0,0)[0] intercept   : AIC=20963.765, Time=11.04 sec\n",
      " ARIMA(2,0,0)(0,0,0)[0]             : AIC=20990.775, Time=0.56 sec\n",
      "\n",
      "Best model:  ARIMA(2,0,0)(0,0,0)[0] intercept\n",
      "Total fit time: 67.687 seconds\n"
     ]
    }
   ],
   "source": [
    "arima_model=auto_arima(y=train_data['Close'],\n",
    "                       exogenous=train_data[ind_features],\n",
    "                       trace=True)"
   ]
  },
  {
   "cell_type": "code",
   "execution_count": 115,
   "metadata": {},
   "outputs": [
    {
     "data": {
      "text/plain": [
       "ARIMA(order=(2, 0, 0), scoring_args={}, suppress_warnings=True)"
      ]
     },
     "execution_count": 115,
     "metadata": {},
     "output_type": "execute_result"
    }
   ],
   "source": [
    "arima_model.fit(train_data['Close'],train_data[ind_features])"
   ]
  },
  {
   "cell_type": "code",
   "execution_count": 116,
   "metadata": {},
   "outputs": [],
   "source": [
    "forecast=arima_model.predict(n_periods=len(test_data),exogenous=test_data[ind_features])"
   ]
  },
  {
   "cell_type": "code",
   "execution_count": 117,
   "metadata": {},
   "outputs": [
    {
     "data": {
      "image/png": "[encoded data removed]",
      "text/plain": [
       "<Figure size 1152x720 with 1 Axes>"
      ]
     },
     "metadata": {
      "needs_background": "light"
     },
     "output_type": "display_data"
    }
   ],
   "source": [
    "# plotting\n",
    "plt.figure(figsize=(16,10))\n",
    "\n",
    "plt.plot(forecast, label=\"Predicted Close Price\")\n",
    "plt.plot(test_data['Close'], label=\"Testing Close Price\")\n",
    "plt.legend(loc='upper center', bbox_to_anchor=(0.5, -0.05), fancybox=True, shadow=True, ncol=2)\n",
    "plt.show()"
   ]
  },
  {
   "cell_type": "code",
   "execution_count": 118,
   "metadata": {},
   "outputs": [
    {
     "name": "stdout",
     "output_type": "stream",
     "text": [
      "MAE:61.04518502014868\n",
      "RMSE:91.11557594080205\n"
     ]
    }
   ],
   "source": [
    "MAE=mean_absolute_error(test_data['Close'],forecast)\n",
    "RMSE=np.sqrt(mean_squared_error(test_data['Close'],forecast))\n",
    "print('MAE:{}'.format(MAE))\n",
    "print('RMSE:{}'.format(RMSE))"
   ]
  },
  {
   "cell_type": "code",
   "execution_count": null,
   "metadata": {},
   "outputs": [],
   "source": []
  },
  {
   "cell_type": "markdown",
   "metadata": {},
   "source": [
    "### merging dataframes"
   ]
  },
  {
   "cell_type": "code",
   "execution_count": 27,
   "metadata": {},
   "outputs": [],
   "source": [
    "merge=pd.concat([news,nifty_data],axis=1)\n"
   ]
  },
  {
   "cell_type": "code",
   "execution_count": 28,
   "metadata": {},
   "outputs": [
    {
     "data": {
      "text/html": [
       "<div>\n",
       "<style scoped>\n",
       "    .dataframe tbody tr th:only-of-type {\n",
       "        vertical-align: middle;\n",
       "    }\n",
       "\n",
       "    .dataframe tbody tr th {\n",
       "        vertical-align: top;\n",
       "    }\n",
       "\n",
       "    .dataframe thead th {\n",
       "        text-align: right;\n",
       "    }\n",
       "</style>\n",
       "<table border=\"1\" class=\"dataframe\">\n",
       "  <thead>\n",
       "    <tr style=\"text-align: right;\">\n",
       "      <th></th>\n",
       "      <th>compound</th>\n",
       "      <th>negative</th>\n",
       "      <th>positive</th>\n",
       "      <th>neutral</th>\n",
       "      <th>Open</th>\n",
       "      <th>High</th>\n",
       "      <th>Low</th>\n",
       "      <th>Close</th>\n",
       "      <th>Adj Close</th>\n",
       "      <th>Volume</th>\n",
       "    </tr>\n",
       "  </thead>\n",
       "  <tbody>\n",
       "    <tr>\n",
       "      <th>2007-09-17</th>\n",
       "      <td>-0.9964</td>\n",
       "      <td>0.107</td>\n",
       "      <td>0.070</td>\n",
       "      <td>0.822</td>\n",
       "      <td>4518.450195</td>\n",
       "      <td>4549.049805</td>\n",
       "      <td>4482.850098</td>\n",
       "      <td>4494.649902</td>\n",
       "      <td>4494.649902</td>\n",
       "      <td>0.0</td>\n",
       "    </tr>\n",
       "    <tr>\n",
       "      <th>2007-09-18</th>\n",
       "      <td>-0.9977</td>\n",
       "      <td>0.127</td>\n",
       "      <td>0.079</td>\n",
       "      <td>0.794</td>\n",
       "      <td>4494.100098</td>\n",
       "      <td>4551.799805</td>\n",
       "      <td>4481.549805</td>\n",
       "      <td>4546.200195</td>\n",
       "      <td>4546.200195</td>\n",
       "      <td>0.0</td>\n",
       "    </tr>\n",
       "    <tr>\n",
       "      <th>2007-09-19</th>\n",
       "      <td>-0.9892</td>\n",
       "      <td>0.096</td>\n",
       "      <td>0.073</td>\n",
       "      <td>0.831</td>\n",
       "      <td>4550.250000</td>\n",
       "      <td>4739.000000</td>\n",
       "      <td>4550.250000</td>\n",
       "      <td>4732.350098</td>\n",
       "      <td>4732.350098</td>\n",
       "      <td>0.0</td>\n",
       "    </tr>\n",
       "    <tr>\n",
       "      <th>2007-09-20</th>\n",
       "      <td>-0.9926</td>\n",
       "      <td>0.115</td>\n",
       "      <td>0.084</td>\n",
       "      <td>0.802</td>\n",
       "      <td>4734.850098</td>\n",
       "      <td>4760.850098</td>\n",
       "      <td>4721.149902</td>\n",
       "      <td>4747.549805</td>\n",
       "      <td>4747.549805</td>\n",
       "      <td>0.0</td>\n",
       "    </tr>\n",
       "    <tr>\n",
       "      <th>2007-09-21</th>\n",
       "      <td>-0.9989</td>\n",
       "      <td>0.140</td>\n",
       "      <td>0.057</td>\n",
       "      <td>0.803</td>\n",
       "      <td>4752.950195</td>\n",
       "      <td>4855.700195</td>\n",
       "      <td>4733.700195</td>\n",
       "      <td>4837.549805</td>\n",
       "      <td>4837.549805</td>\n",
       "      <td>0.0</td>\n",
       "    </tr>\n",
       "  </tbody>\n",
       "</table>\n",
       "</div>"
      ],
      "text/plain": [
       "            compound  negative  positive  neutral         Open         High  \\\n",
       "2007-09-17   -0.9964     0.107     0.070    0.822  4518.450195  4549.049805   \n",
       "2007-09-18   -0.9977     0.127     0.079    0.794  4494.100098  4551.799805   \n",
       "2007-09-19   -0.9892     0.096     0.073    0.831  4550.250000  4739.000000   \n",
       "2007-09-20   -0.9926     0.115     0.084    0.802  4734.850098  4760.850098   \n",
       "2007-09-21   -0.9989     0.140     0.057    0.803  4752.950195  4855.700195   \n",
       "\n",
       "                    Low        Close    Adj Close  Volume  \n",
       "2007-09-17  4482.850098  4494.649902  4494.649902     0.0  \n",
       "2007-09-18  4481.549805  4546.200195  4546.200195     0.0  \n",
       "2007-09-19  4550.250000  4732.350098  4732.350098     0.0  \n",
       "2007-09-20  4721.149902  4747.549805  4747.549805     0.0  \n",
       "2007-09-21  4733.700195  4837.549805  4837.549805     0.0  "
      ]
     },
     "execution_count": 28,
     "metadata": {},
     "output_type": "execute_result"
    }
   ],
   "source": [
    "merge.head()"
   ]
  },
  {
   "cell_type": "code",
   "execution_count": 29,
   "metadata": {},
   "outputs": [
    {
     "data": {
      "text/plain": [
       "compound       68\n",
       "negative       68\n",
       "positive       68\n",
       "neutral        68\n",
       "Open         1608\n",
       "High         1608\n",
       "Low          1608\n",
       "Close        1608\n",
       "Adj Close    1608\n",
       "Volume       1608\n",
       "dtype: int64"
      ]
     },
     "execution_count": 29,
     "metadata": {},
     "output_type": "execute_result"
    }
   ],
   "source": [
    "merge.isna().sum()"
   ]
  },
  {
   "cell_type": "code",
   "execution_count": 30,
   "metadata": {},
   "outputs": [],
   "source": [
    "merge.dropna(inplace=True)"
   ]
  },
  {
   "cell_type": "code",
   "execution_count": 31,
   "metadata": {},
   "outputs": [
    {
     "data": {
      "text/plain": [
       "(3247, 10)"
      ]
     },
     "execution_count": 31,
     "metadata": {},
     "output_type": "execute_result"
    }
   ],
   "source": [
    "merge.shape"
   ]
  },
  {
   "cell_type": "markdown",
   "metadata": {},
   "source": [
    "### features for model"
   ]
  },
  {
   "cell_type": "code",
   "execution_count": 42,
   "metadata": {},
   "outputs": [],
   "source": [
    "data=merge[['compound','positive','negative','Open','High','Low','Close']]"
   ]
  },
  {
   "cell_type": "code",
   "execution_count": 43,
   "metadata": {},
   "outputs": [
    {
     "data": {
      "text/html": [
       "<div>\n",
       "<style scoped>\n",
       "    .dataframe tbody tr th:only-of-type {\n",
       "        vertical-align: middle;\n",
       "    }\n",
       "\n",
       "    .dataframe tbody tr th {\n",
       "        vertical-align: top;\n",
       "    }\n",
       "\n",
       "    .dataframe thead th {\n",
       "        text-align: right;\n",
       "    }\n",
       "</style>\n",
       "<table border=\"1\" class=\"dataframe\">\n",
       "  <thead>\n",
       "    <tr style=\"text-align: right;\">\n",
       "      <th></th>\n",
       "      <th>compound</th>\n",
       "      <th>positive</th>\n",
       "      <th>negative</th>\n",
       "      <th>Open</th>\n",
       "      <th>High</th>\n",
       "      <th>Low</th>\n",
       "      <th>Close</th>\n",
       "    </tr>\n",
       "  </thead>\n",
       "  <tbody>\n",
       "    <tr>\n",
       "      <th>2007-09-17</th>\n",
       "      <td>-0.9964</td>\n",
       "      <td>0.070</td>\n",
       "      <td>0.107</td>\n",
       "      <td>4518.450195</td>\n",
       "      <td>4549.049805</td>\n",
       "      <td>4482.850098</td>\n",
       "      <td>4494.649902</td>\n",
       "    </tr>\n",
       "    <tr>\n",
       "      <th>2007-09-18</th>\n",
       "      <td>-0.9977</td>\n",
       "      <td>0.079</td>\n",
       "      <td>0.127</td>\n",
       "      <td>4494.100098</td>\n",
       "      <td>4551.799805</td>\n",
       "      <td>4481.549805</td>\n",
       "      <td>4546.200195</td>\n",
       "    </tr>\n",
       "    <tr>\n",
       "      <th>2007-09-19</th>\n",
       "      <td>-0.9892</td>\n",
       "      <td>0.073</td>\n",
       "      <td>0.096</td>\n",
       "      <td>4550.250000</td>\n",
       "      <td>4739.000000</td>\n",
       "      <td>4550.250000</td>\n",
       "      <td>4732.350098</td>\n",
       "    </tr>\n",
       "    <tr>\n",
       "      <th>2007-09-20</th>\n",
       "      <td>-0.9926</td>\n",
       "      <td>0.084</td>\n",
       "      <td>0.115</td>\n",
       "      <td>4734.850098</td>\n",
       "      <td>4760.850098</td>\n",
       "      <td>4721.149902</td>\n",
       "      <td>4747.549805</td>\n",
       "    </tr>\n",
       "    <tr>\n",
       "      <th>2007-09-21</th>\n",
       "      <td>-0.9989</td>\n",
       "      <td>0.057</td>\n",
       "      <td>0.140</td>\n",
       "      <td>4752.950195</td>\n",
       "      <td>4855.700195</td>\n",
       "      <td>4733.700195</td>\n",
       "      <td>4837.549805</td>\n",
       "    </tr>\n",
       "  </tbody>\n",
       "</table>\n",
       "</div>"
      ],
      "text/plain": [
       "            compound  positive  negative         Open         High  \\\n",
       "2007-09-17   -0.9964     0.070     0.107  4518.450195  4549.049805   \n",
       "2007-09-18   -0.9977     0.079     0.127  4494.100098  4551.799805   \n",
       "2007-09-19   -0.9892     0.073     0.096  4550.250000  4739.000000   \n",
       "2007-09-20   -0.9926     0.084     0.115  4734.850098  4760.850098   \n",
       "2007-09-21   -0.9989     0.057     0.140  4752.950195  4855.700195   \n",
       "\n",
       "                    Low        Close  \n",
       "2007-09-17  4482.850098  4494.649902  \n",
       "2007-09-18  4481.549805  4546.200195  \n",
       "2007-09-19  4550.250000  4732.350098  \n",
       "2007-09-20  4721.149902  4747.549805  \n",
       "2007-09-21  4733.700195  4837.549805  "
      ]
     },
     "execution_count": 43,
     "metadata": {},
     "output_type": "execute_result"
    }
   ],
   "source": [
    "data.head()"
   ]
  },
  {
   "cell_type": "code",
   "execution_count": 49,
   "metadata": {},
   "outputs": [],
   "source": [
    "def shifter(df,col):\n",
    "    df['shifted_'+col]=df[col].shift(-1)"
   ]
  },
  {
   "cell_type": "code",
   "execution_count": 50,
   "metadata": {},
   "outputs": [],
   "source": [
    "#shift by 1 so taht we can predict for the next day\n",
    "shifter(data,'compound')\n",
    "shifter(data,'positive')\n",
    "shifter(data,'negative')\n",
    "shifter(data,'Close')"
   ]
  },
  {
   "cell_type": "code",
   "execution_count": 217,
   "metadata": {},
   "outputs": [
    {
     "data": {
      "text/html": [
       "<div>\n",
       "<style scoped>\n",
       "    .dataframe tbody tr th:only-of-type {\n",
       "        vertical-align: middle;\n",
       "    }\n",
       "\n",
       "    .dataframe tbody tr th {\n",
       "        vertical-align: top;\n",
       "    }\n",
       "\n",
       "    .dataframe thead th {\n",
       "        text-align: right;\n",
       "    }\n",
       "</style>\n",
       "<table border=\"1\" class=\"dataframe\">\n",
       "  <thead>\n",
       "    <tr style=\"text-align: right;\">\n",
       "      <th></th>\n",
       "      <th>compound</th>\n",
       "      <th>positive</th>\n",
       "      <th>negative</th>\n",
       "      <th>Open</th>\n",
       "      <th>High</th>\n",
       "      <th>Low</th>\n",
       "      <th>Close</th>\n",
       "      <th>shifted_close</th>\n",
       "      <th>shifted_sentiment</th>\n",
       "      <th>shifted_compound</th>\n",
       "      <th>shifted_positive</th>\n",
       "      <th>shifted_negative</th>\n",
       "      <th>shifted_Close</th>\n",
       "    </tr>\n",
       "  </thead>\n",
       "  <tbody>\n",
       "    <tr>\n",
       "      <th>2007-09-17</th>\n",
       "      <td>-0.9964</td>\n",
       "      <td>0.070</td>\n",
       "      <td>0.107</td>\n",
       "      <td>4518.450195</td>\n",
       "      <td>4549.049805</td>\n",
       "      <td>4482.850098</td>\n",
       "      <td>4494.649902</td>\n",
       "      <td>4546.200195</td>\n",
       "      <td>-0.9977</td>\n",
       "      <td>-0.9977</td>\n",
       "      <td>0.079</td>\n",
       "      <td>0.127</td>\n",
       "      <td>4546.200195</td>\n",
       "    </tr>\n",
       "    <tr>\n",
       "      <th>2007-09-18</th>\n",
       "      <td>-0.9977</td>\n",
       "      <td>0.079</td>\n",
       "      <td>0.127</td>\n",
       "      <td>4494.100098</td>\n",
       "      <td>4551.799805</td>\n",
       "      <td>4481.549805</td>\n",
       "      <td>4546.200195</td>\n",
       "      <td>4732.350098</td>\n",
       "      <td>-0.9892</td>\n",
       "      <td>-0.9892</td>\n",
       "      <td>0.073</td>\n",
       "      <td>0.096</td>\n",
       "      <td>4732.350098</td>\n",
       "    </tr>\n",
       "    <tr>\n",
       "      <th>2007-09-19</th>\n",
       "      <td>-0.9892</td>\n",
       "      <td>0.073</td>\n",
       "      <td>0.096</td>\n",
       "      <td>4550.250000</td>\n",
       "      <td>4739.000000</td>\n",
       "      <td>4550.250000</td>\n",
       "      <td>4732.350098</td>\n",
       "      <td>4747.549805</td>\n",
       "      <td>-0.9926</td>\n",
       "      <td>-0.9926</td>\n",
       "      <td>0.084</td>\n",
       "      <td>0.115</td>\n",
       "      <td>4747.549805</td>\n",
       "    </tr>\n",
       "    <tr>\n",
       "      <th>2007-09-20</th>\n",
       "      <td>-0.9926</td>\n",
       "      <td>0.084</td>\n",
       "      <td>0.115</td>\n",
       "      <td>4734.850098</td>\n",
       "      <td>4760.850098</td>\n",
       "      <td>4721.149902</td>\n",
       "      <td>4747.549805</td>\n",
       "      <td>4837.549805</td>\n",
       "      <td>-0.9989</td>\n",
       "      <td>-0.9989</td>\n",
       "      <td>0.057</td>\n",
       "      <td>0.140</td>\n",
       "      <td>4837.549805</td>\n",
       "    </tr>\n",
       "    <tr>\n",
       "      <th>2007-09-21</th>\n",
       "      <td>-0.9989</td>\n",
       "      <td>0.057</td>\n",
       "      <td>0.140</td>\n",
       "      <td>4752.950195</td>\n",
       "      <td>4855.700195</td>\n",
       "      <td>4733.700195</td>\n",
       "      <td>4837.549805</td>\n",
       "      <td>4932.200195</td>\n",
       "      <td>-0.9968</td>\n",
       "      <td>-0.9968</td>\n",
       "      <td>0.083</td>\n",
       "      <td>0.119</td>\n",
       "      <td>4932.200195</td>\n",
       "    </tr>\n",
       "  </tbody>\n",
       "</table>\n",
       "</div>"
      ],
      "text/plain": [
       "            compound  positive  negative         Open         High  \\\n",
       "2007-09-17   -0.9964     0.070     0.107  4518.450195  4549.049805   \n",
       "2007-09-18   -0.9977     0.079     0.127  4494.100098  4551.799805   \n",
       "2007-09-19   -0.9892     0.073     0.096  4550.250000  4739.000000   \n",
       "2007-09-20   -0.9926     0.084     0.115  4734.850098  4760.850098   \n",
       "2007-09-21   -0.9989     0.057     0.140  4752.950195  4855.700195   \n",
       "\n",
       "                    Low        Close  shifted_close  shifted_sentiment  \\\n",
       "2007-09-17  4482.850098  4494.649902    4546.200195            -0.9977   \n",
       "2007-09-18  4481.549805  4546.200195    4732.350098            -0.9892   \n",
       "2007-09-19  4550.250000  4732.350098    4747.549805            -0.9926   \n",
       "2007-09-20  4721.149902  4747.549805    4837.549805            -0.9989   \n",
       "2007-09-21  4733.700195  4837.549805    4932.200195            -0.9968   \n",
       "\n",
       "            shifted_compound  shifted_positive  shifted_negative  \\\n",
       "2007-09-17           -0.9977             0.079             0.127   \n",
       "2007-09-18           -0.9892             0.073             0.096   \n",
       "2007-09-19           -0.9926             0.084             0.115   \n",
       "2007-09-20           -0.9989             0.057             0.140   \n",
       "2007-09-21           -0.9968             0.083             0.119   \n",
       "\n",
       "            shifted_Close  \n",
       "2007-09-17    4546.200195  \n",
       "2007-09-18    4732.350098  \n",
       "2007-09-19    4747.549805  \n",
       "2007-09-20    4837.549805  \n",
       "2007-09-21    4932.200195  "
      ]
     },
     "execution_count": 217,
     "metadata": {},
     "output_type": "execute_result"
    }
   ],
   "source": [
    "data.head()"
   ]
  },
  {
   "cell_type": "code",
   "execution_count": 218,
   "metadata": {},
   "outputs": [],
   "source": [
    "data.replace([np.inf, -np.inf], np.nan, inplace=True)\n",
    "  \n",
    "# Dropping all the rows with nan values\n",
    "data.dropna(inplace=True)"
   ]
  },
  {
   "cell_type": "code",
   "execution_count": 465,
   "metadata": {},
   "outputs": [
    {
     "data": {
      "text/plain": [
       "2007-09-17     4546.200195\n",
       "2007-09-18     4732.350098\n",
       "2007-09-19     4747.549805\n",
       "2007-09-20     4837.549805\n",
       "2007-09-21     4932.200195\n",
       "                  ...     \n",
       "2020-12-23    13749.250000\n",
       "2020-12-24    13873.200195\n",
       "2020-12-28    13932.599609\n",
       "2020-12-29    13981.950195\n",
       "2020-12-30    13981.750000\n",
       "Name: shifted_Close, Length: 3246, dtype: float64"
      ]
     },
     "execution_count": 465,
     "metadata": {},
     "output_type": "execute_result"
    }
   ],
   "source": [
    "# setting the target variable as the shifted close_price\n",
    "y = data['shifted_Close']\n",
    "y"
   ]
  },
  {
   "cell_type": "code",
   "execution_count": 466,
   "metadata": {},
   "outputs": [
    {
     "data": {
      "text/html": [
       "<div>\n",
       "<style scoped>\n",
       "    .dataframe tbody tr th:only-of-type {\n",
       "        vertical-align: middle;\n",
       "    }\n",
       "\n",
       "    .dataframe tbody tr th {\n",
       "        vertical-align: top;\n",
       "    }\n",
       "\n",
       "    .dataframe thead th {\n",
       "        text-align: right;\n",
       "    }\n",
       "</style>\n",
       "<table border=\"1\" class=\"dataframe\">\n",
       "  <thead>\n",
       "    <tr style=\"text-align: right;\">\n",
       "      <th></th>\n",
       "      <th>Close</th>\n",
       "      <th>compound</th>\n",
       "      <th>shifted_compound</th>\n",
       "      <th>Open</th>\n",
       "      <th>High</th>\n",
       "      <th>Low</th>\n",
       "    </tr>\n",
       "  </thead>\n",
       "  <tbody>\n",
       "    <tr>\n",
       "      <th>2007-09-17</th>\n",
       "      <td>4494.649902</td>\n",
       "      <td>-0.9964</td>\n",
       "      <td>-0.9977</td>\n",
       "      <td>4518.450195</td>\n",
       "      <td>4549.049805</td>\n",
       "      <td>4482.850098</td>\n",
       "    </tr>\n",
       "    <tr>\n",
       "      <th>2007-09-18</th>\n",
       "      <td>4546.200195</td>\n",
       "      <td>-0.9977</td>\n",
       "      <td>-0.9892</td>\n",
       "      <td>4494.100098</td>\n",
       "      <td>4551.799805</td>\n",
       "      <td>4481.549805</td>\n",
       "    </tr>\n",
       "    <tr>\n",
       "      <th>2007-09-19</th>\n",
       "      <td>4732.350098</td>\n",
       "      <td>-0.9892</td>\n",
       "      <td>-0.9926</td>\n",
       "      <td>4550.250000</td>\n",
       "      <td>4739.000000</td>\n",
       "      <td>4550.250000</td>\n",
       "    </tr>\n",
       "    <tr>\n",
       "      <th>2007-09-20</th>\n",
       "      <td>4747.549805</td>\n",
       "      <td>-0.9926</td>\n",
       "      <td>-0.9989</td>\n",
       "      <td>4734.850098</td>\n",
       "      <td>4760.850098</td>\n",
       "      <td>4721.149902</td>\n",
       "    </tr>\n",
       "    <tr>\n",
       "      <th>2007-09-21</th>\n",
       "      <td>4837.549805</td>\n",
       "      <td>-0.9989</td>\n",
       "      <td>-0.9968</td>\n",
       "      <td>4752.950195</td>\n",
       "      <td>4855.700195</td>\n",
       "      <td>4733.700195</td>\n",
       "    </tr>\n",
       "    <tr>\n",
       "      <th>...</th>\n",
       "      <td>...</td>\n",
       "      <td>...</td>\n",
       "      <td>...</td>\n",
       "      <td>...</td>\n",
       "      <td>...</td>\n",
       "      <td>...</td>\n",
       "    </tr>\n",
       "    <tr>\n",
       "      <th>2020-12-23</th>\n",
       "      <td>13601.099609</td>\n",
       "      <td>-0.9995</td>\n",
       "      <td>-0.9965</td>\n",
       "      <td>13473.500000</td>\n",
       "      <td>13619.450195</td>\n",
       "      <td>13432.200195</td>\n",
       "    </tr>\n",
       "    <tr>\n",
       "      <th>2020-12-24</th>\n",
       "      <td>13749.250000</td>\n",
       "      <td>-0.9965</td>\n",
       "      <td>-0.9997</td>\n",
       "      <td>13672.150391</td>\n",
       "      <td>13771.750000</td>\n",
       "      <td>13626.900391</td>\n",
       "    </tr>\n",
       "    <tr>\n",
       "      <th>2020-12-28</th>\n",
       "      <td>13873.200195</td>\n",
       "      <td>-0.9997</td>\n",
       "      <td>-0.9997</td>\n",
       "      <td>13815.150391</td>\n",
       "      <td>13885.299805</td>\n",
       "      <td>13811.549805</td>\n",
       "    </tr>\n",
       "    <tr>\n",
       "      <th>2020-12-29</th>\n",
       "      <td>13932.599609</td>\n",
       "      <td>-0.9997</td>\n",
       "      <td>-0.9997</td>\n",
       "      <td>13910.349609</td>\n",
       "      <td>13967.599609</td>\n",
       "      <td>13859.900391</td>\n",
       "    </tr>\n",
       "    <tr>\n",
       "      <th>2020-12-30</th>\n",
       "      <td>13981.950195</td>\n",
       "      <td>-0.9997</td>\n",
       "      <td>-0.9996</td>\n",
       "      <td>13980.900391</td>\n",
       "      <td>13997.000000</td>\n",
       "      <td>13864.950195</td>\n",
       "    </tr>\n",
       "  </tbody>\n",
       "</table>\n",
       "<p>3246 rows × 6 columns</p>\n",
       "</div>"
      ],
      "text/plain": [
       "                   Close  compound  shifted_compound          Open  \\\n",
       "2007-09-17   4494.649902   -0.9964           -0.9977   4518.450195   \n",
       "2007-09-18   4546.200195   -0.9977           -0.9892   4494.100098   \n",
       "2007-09-19   4732.350098   -0.9892           -0.9926   4550.250000   \n",
       "2007-09-20   4747.549805   -0.9926           -0.9989   4734.850098   \n",
       "2007-09-21   4837.549805   -0.9989           -0.9968   4752.950195   \n",
       "...                  ...       ...               ...           ...   \n",
       "2020-12-23  13601.099609   -0.9995           -0.9965  13473.500000   \n",
       "2020-12-24  13749.250000   -0.9965           -0.9997  13672.150391   \n",
       "2020-12-28  13873.200195   -0.9997           -0.9997  13815.150391   \n",
       "2020-12-29  13932.599609   -0.9997           -0.9997  13910.349609   \n",
       "2020-12-30  13981.950195   -0.9997           -0.9996  13980.900391   \n",
       "\n",
       "                    High           Low  \n",
       "2007-09-17   4549.049805   4482.850098  \n",
       "2007-09-18   4551.799805   4481.549805  \n",
       "2007-09-19   4739.000000   4550.250000  \n",
       "2007-09-20   4760.850098   4721.149902  \n",
       "2007-09-21   4855.700195   4733.700195  \n",
       "...                  ...           ...  \n",
       "2020-12-23  13619.450195  13432.200195  \n",
       "2020-12-24  13771.750000  13626.900391  \n",
       "2020-12-28  13885.299805  13811.549805  \n",
       "2020-12-29  13967.599609  13859.900391  \n",
       "2020-12-30  13997.000000  13864.950195  \n",
       "\n",
       "[3246 rows x 6 columns]"
      ]
     },
     "execution_count": 466,
     "metadata": {},
     "output_type": "execute_result"
    }
   ],
   "source": [
    "# setting the features dataset for prediction  \n",
    "cols = ['Close', 'compound', 'shifted_compound','Open', 'High', 'Low']\n",
    "x = data[cols]\n",
    "x"
   ]
  },
  {
   "cell_type": "code",
   "execution_count": 467,
   "metadata": {},
   "outputs": [
    {
     "data": {
      "text/plain": [
       "(array([[-0.65604941, -0.9964    , -0.9977    , -0.65611298, -0.65583572,\n",
       "         -0.61590395],\n",
       "        [-0.64705109, -0.9977    , -0.9892    , -0.66037473, -0.65535376,\n",
       "         -0.61612791],\n",
       "        [-0.61455781, -0.9892    , -0.9926    , -0.6505474 , -0.62254529,\n",
       "         -0.60429549],\n",
       "        ...,\n",
       "        [ 0.98101722, -0.9997    , -0.9997    ,  0.97099052,  0.98042357,\n",
       "          0.99080271],\n",
       "        [ 0.99138564, -0.9997    , -0.9997    ,  0.98765224,  0.99484732,\n",
       "          0.99913026],\n",
       "        [ 1.        , -0.9997    , -0.9996    ,  1.        ,  1.        ,\n",
       "          1.        ]]), array([[-0.64705109],\n",
       "        [-0.61455781],\n",
       "        [-0.61190464],\n",
       "        ...,\n",
       "        [ 0.99138564],\n",
       "        [ 1.        ],\n",
       "        [ 0.99996506]]))"
      ]
     },
     "execution_count": 467,
     "metadata": {},
     "output_type": "execute_result"
    }
   ],
   "source": [
    "# scaling the feature dataset\n",
    "scaler_x = MinMaxScaler(feature_range=(-1, 1))\n",
    "x = np.array(x).reshape((len(x) ,len(cols)))\n",
    "x = scaler_x.fit_transform(x)\n",
    "\n",
    "# scaling the target variable\n",
    "scaler_y = MinMaxScaler(feature_range=(-1, 1))\n",
    "y = np.array (y).reshape ((len( y), 1))\n",
    "y = scaler_y.fit_transform (y)\n",
    "\n",
    "# displaying the scaled feature dataset and the target variable\n",
    "x, y"
   ]
  },
  {
   "cell_type": "code",
   "execution_count": 468,
   "metadata": {},
   "outputs": [],
   "source": [
    "train_size=int(len(data)*0.7)\n",
    "test_size=len(data)-train_size\n",
    "\n",
    "train_data=data[:train_size]\n",
    "test_data=data[train_size+1:]"
   ]
  },
  {
   "cell_type": "code",
   "execution_count": 469,
   "metadata": {},
   "outputs": [],
   "source": [
    "# preparing training and test dataset\n",
    "X_train = x[0 : train_size,]\n",
    "X_test = x[train_size+1 : len(x),]    \n",
    "y_train = y[0 : train_size] \n",
    "y_test = y[train_size+1 : len(y)]  "
   ]
  },
  {
   "cell_type": "code",
   "execution_count": 470,
   "metadata": {},
   "outputs": [],
   "source": [
    "# reshaping the feature dataset for feeding into the model\n",
    "X_train = X_train.reshape (X_train.shape + (1,)) \n",
    "X_test = X_test.reshape(X_test.shape + (1,))"
   ]
  },
  {
   "cell_type": "code",
   "execution_count": 471,
   "metadata": {},
   "outputs": [],
   "source": [
    "#early stoppping callback\n",
    "es = EarlyStopping(monitor='val_loss', mode='min', verbose=1, patience=6)"
   ]
  },
  {
   "cell_type": "code",
   "execution_count": 472,
   "metadata": {},
   "outputs": [
    {
     "name": "stdout",
     "output_type": "stream",
     "text": [
      "Model: \"sequential_35\"\n",
      "_________________________________________________________________\n",
      "Layer (type)                 Output Shape              Param #   \n",
      "=================================================================\n",
      "lstm_53 (LSTM)               (None, 6, 128)            66560     \n",
      "_________________________________________________________________\n",
      "dropout_103 (Dropout)        (None, 6, 128)            0         \n",
      "_________________________________________________________________\n",
      "lstm_54 (LSTM)               (None, 6, 128)            131584    \n",
      "_________________________________________________________________\n",
      "dropout_104 (Dropout)        (None, 6, 128)            0         \n",
      "_________________________________________________________________\n",
      "lstm_55 (LSTM)               (None, 128)               131584    \n",
      "_________________________________________________________________\n",
      "dropout_105 (Dropout)        (None, 128)               0         \n",
      "_________________________________________________________________\n",
      "dense_31 (Dense)             (None, 1)                 129       \n",
      "=================================================================\n",
      "Total params: 329,857\n",
      "Trainable params: 329,857\n",
      "Non-trainable params: 0\n",
      "_________________________________________________________________\n"
     ]
    }
   ],
   "source": [
    "# setting the seed to achieve consistent and less random predictions at each execution\n",
    "np.random.seed(2016)\n",
    "\n",
    "# setting the model architecture\n",
    "model=Sequential()\n",
    "model.add(LSTM(128,return_sequences=True,activation='tanh',input_shape=(len(cols),1)))\n",
    "model.add(Dropout(0.1))\n",
    "model.add(LSTM(128,return_sequences=True,activation='tanh'))\n",
    "model.add(Dropout(0.1))\n",
    "model.add(LSTM(128,activation='tanh'))\n",
    "model.add(Dropout(0.1))\n",
    "model.add(Dense(1))\n",
    "\n",
    "# printing the model summary\n",
    "model.summary()"
   ]
  },
  {
   "cell_type": "code",
   "execution_count": 473,
   "metadata": {},
   "outputs": [
    {
     "name": "stdout",
     "output_type": "stream",
     "text": [
      "Epoch 1/20\n",
      "228/228 [==============================] - 8s 18ms/step - loss: 0.1435 - val_loss: 0.1198\n",
      "Epoch 2/20\n",
      "228/228 [==============================] - 3s 13ms/step - loss: 0.0759 - val_loss: 0.1251\n",
      "Epoch 3/20\n",
      "228/228 [==============================] - 3s 14ms/step - loss: 0.0565 - val_loss: 0.0221\n",
      "Epoch 4/20\n",
      "228/228 [==============================] - 4s 19ms/step - loss: 0.0351 - val_loss: 0.0297\n",
      "Epoch 5/20\n",
      "228/228 [==============================] - 6s 24ms/step - loss: 0.0331 - val_loss: 0.0230\n",
      "Epoch 6/20\n",
      "228/228 [==============================] - 4s 18ms/step - loss: 0.0329 - val_loss: 0.0138\n",
      "Epoch 7/20\n",
      "228/228 [==============================] - 3s 13ms/step - loss: 0.0259 - val_loss: 0.0140\n",
      "Epoch 8/20\n",
      "228/228 [==============================] - 3s 13ms/step - loss: 0.0229 - val_loss: 0.0178\n",
      "Epoch 9/20\n",
      "228/228 [==============================] - 3s 13ms/step - loss: 0.0250 - val_loss: 0.0133\n",
      "Epoch 10/20\n",
      "228/228 [==============================] - 3s 13ms/step - loss: 0.0284 - val_loss: 0.0178\n",
      "Epoch 11/20\n",
      "228/228 [==============================] - 3s 14ms/step - loss: 0.0223 - val_loss: 0.0125\n",
      "Epoch 12/20\n",
      "228/228 [==============================] - 5s 23ms/step - loss: 0.0210 - val_loss: 0.0219\n",
      "Epoch 13/20\n",
      "228/228 [==============================] - 6s 25ms/step - loss: 0.0228 - val_loss: 0.0292\n",
      "Epoch 14/20\n",
      "228/228 [==============================] - 6s 25ms/step - loss: 0.0224 - val_loss: 0.0144\n",
      "Epoch 15/20\n",
      "228/228 [==============================] - 6s 25ms/step - loss: 0.0199 - val_loss: 0.0123\n",
      "Epoch 16/20\n",
      "228/228 [==============================] - 6s 25ms/step - loss: 0.0203 - val_loss: 0.0165\n",
      "Epoch 17/20\n",
      "228/228 [==============================] - 6s 25ms/step - loss: 0.0234 - val_loss: 0.0135\n",
      "Epoch 18/20\n",
      "228/228 [==============================] - 4s 19ms/step - loss: 0.0204 - val_loss: 0.0169\n",
      "Epoch 19/20\n",
      "228/228 [==============================] - 3s 14ms/step - loss: 0.0209 - val_loss: 0.0161\n",
      "Epoch 20/20\n",
      "228/228 [==============================] - 3s 14ms/step - loss: 0.0214 - val_loss: 0.0172\n"
     ]
    },
    {
     "data": {
      "text/plain": [
       "<keras.callbacks.History at 0x15e56afb588>"
      ]
     },
     "execution_count": 473,
     "metadata": {},
     "output_type": "execute_result"
    }
   ],
   "source": [
    "# compiling the model\n",
    "model.compile(loss='mae' , optimizer='adam')\n",
    "\n",
    "# fitting the model using the training dataset\n",
    "model.fit(X_train, y_train, validation_split=0.2, epochs=20, batch_size=8, verbose=1,callbacks=es)"
   ]
  },
  {
   "cell_type": "code",
   "execution_count": 474,
   "metadata": {},
   "outputs": [
    {
     "name": "stdout",
     "output_type": "stream",
     "text": [
      "Predictions:\n"
     ]
    },
    {
     "data": {
      "text/plain": [
       "array([[8317.222],\n",
       "       [8326.259],\n",
       "       [8342.27 ],\n",
       "       [8342.789],\n",
       "       [8298.265]], dtype=float32)"
      ]
     },
     "execution_count": 474,
     "metadata": {},
     "output_type": "execute_result"
    }
   ],
   "source": [
    "# performing predictions\n",
    "predictions = model.predict(X_test) \n",
    "\n",
    "# unscaling the predictions\n",
    "predictions = scaler_y.inverse_transform(np.array(predictions).reshape((len(predictions),1)))\n",
    "\n",
    "# printing the predictions\n",
    "print('Predictions:')\n",
    "predictions[0:5]"
   ]
  },
  {
   "cell_type": "code",
   "execution_count": 475,
   "metadata": {},
   "outputs": [],
   "source": [
    "# unscaling the test feature dataset, x_test\n",
    "X_test = scaler_x.inverse_transform(np.array(X_test).reshape((len(X_test), len(cols))))\n",
    "\n",
    "# unscaling the test y dataset, y_test\n",
    "y_train = scaler_y.inverse_transform(np.array(y_train).reshape((len(y_train), 1)))\n",
    "y_test = scaler_y.inverse_transform(np.array(y_test).reshape((len(y_test), 1)))"
   ]
  },
  {
   "cell_type": "code",
   "execution_count": 476,
   "metadata": {},
   "outputs": [
    {
     "data": {
      "image/png": "[encoded data removed]",
      "text/plain": [
       "<Figure size 1152x720 with 1 Axes>"
      ]
     },
     "metadata": {
      "needs_background": "light"
     },
     "output_type": "display_data"
    }
   ],
   "source": [
    "# plotting\n",
    "plt.figure(figsize=(16,10))\n",
    "\n",
    "# plt.plot([row[0] for row in y_train], label=\"Training Close Price\")\n",
    "plt.plot(predictions, label=\"Predicted Close Price\")\n",
    "plt.plot([row[0] for row in y_test], label=\"Testing Close Price\")\n",
    "plt.legend(loc='upper center', bbox_to_anchor=(0.5, -0.05), fancybox=True, shadow=True, ncol=2)\n",
    "plt.show()"
   ]
  },
  {
   "cell_type": "code",
   "execution_count": 493,
   "metadata": {},
   "outputs": [
    {
     "name": "stdout",
     "output_type": "stream",
     "text": [
      "RMSE:10704.406830237405\n",
      "MAE:10652.322814820693\n"
     ]
    }
   ],
   "source": [
    "mae=mean_absolute_error(y_test, predictions)\n",
    "rmse = np.sqrt((mean_squared_error(y_test, predictions)))\n",
    "print('RMSE:{}'.format(rmse))\n",
    "print('MAE:{}'.format(mae))"
   ]
  },
  {
   "cell_type": "code",
   "execution_count": null,
   "metadata": {},
   "outputs": [],
   "source": []
  }
 ],
 "metadata": {
  "accelerator": "GPU",
  "colab": {
   "collapsed_sections": [],
   "name": "sentiment stock_pred.ipynb",
   "provenance": []
  },
  "kernelspec": {
   "display_name": "Python 3",
   "language": "python",
   "name": "python3"
  },
  "language_info": {
   "codemirror_mode": {
    "name": "ipython",
    "version": 3
   },
   "file_extension": ".py",
   "mimetype": "text/x-python",
   "name": "python",
   "nbconvert_exporter": "python",
   "pygments_lexer": "ipython3",
   "version": "3.7.4"
  }
 },
 "nbformat": 4,
 "nbformat_minor": 1
}
